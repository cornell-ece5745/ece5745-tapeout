{
  "nbformat": 4,
  "nbformat_minor": 0,
  "metadata": {
    "colab": {
      "name": "mlp_pytorch_model",
      "provenance": [],
      "collapsed_sections": []
    },
    "kernelspec": {
      "name": "python3",
      "display_name": "Python 3"
    },
    "language_info": {
      "name": "python"
    }
  },
  "cells": [
    {
      "cell_type": "code",
      "execution_count": 1,
      "metadata": {
        "id": "uewg50ELcG-B"
      },
      "outputs": [],
      "source": [
        "# Reference code: https://medium.com/@aungkyawmyint_26195/multi-layer-perceptron-mnist-pytorch-463f795b897a\n",
        "import torch\n",
        "import numpy as np\n",
        "import torch.nn as nn\n",
        "import torch.nn.functional as F\n",
        "import torch.optim as optim\n",
        "import torchvision\n",
        "from torchvision import datasets\n",
        "import torchvision.transforms as transforms\n",
        "from torch.utils.data.sampler import SubsetRandomSampler\n",
        "\n",
        "import pandas as pd\n",
        "import matplotlib.pyplot as plt\n",
        "import seaborn as sns\n",
        "%matplotlib inline\n",
        "\n",
        "\n",
        "from google.colab import files"
      ]
    },
    {
      "cell_type": "code",
      "source": [
        "torch.set_default_dtype(torch.float64)"
      ],
      "metadata": {
        "id": "pxI_ibFnLIhU"
      },
      "execution_count": 108,
      "outputs": []
    },
    {
      "cell_type": "code",
      "source": [
        "# Hyperparameters \n",
        "\n",
        "epochs = 20\n",
        "batch_size = 64\n",
        "valid_size = 0.2 \n",
        "learning_rate = 0.00005 # optimizer parameter\n",
        "momentum = 0.9 # optimizer parameter \n",
        "log_interval = 10\n",
        "\n",
        "random_seed = 1\n",
        "torch.backends.cudnn.enabled = False # turned off the nondeterministic algo used in cuDNN\n",
        "# For repeatable experiments, set random seeds for anything using random number generation (numpy and random)\n",
        "torch.manual_seed(random_seed) \n",
        "\n",
        "# number of subprocesses to use for data loading\n",
        "num_workers = 0\n",
        "# how many samples per batch to load\n",
        "batch_size = 20\n",
        "# percentage of training set to use as validation\n",
        "valid_size = 0.2\n",
        "# convert data to torch.FloatTensor\n",
        "transform = transforms.ToTensor() \n",
        "# choose the training and testing datasets\n",
        "train_data = datasets.MNIST(root = 'data', train = True, download = True, transform = transform)\n",
        "test_data = datasets.MNIST(root = 'data', train = False, download = True, transform = transform)"
      ],
      "metadata": {
        "id": "EDmWNO0DikAS"
      },
      "execution_count": 109,
      "outputs": []
    },
    {
      "cell_type": "code",
      "source": [
        "# Set up Dataloaders\n",
        "\n",
        "# obtain training indices that will be used for validation\n",
        "num_train = len(train_data)\n",
        "indices = list(range(num_train))\n",
        "np.random.shuffle(indices)\n",
        "split = int(np.floor(valid_size * num_train))\n",
        "train_index, valid_index = indices[split:], indices[:split]\n",
        "# define samplers for obtaining training and validation batches\n",
        "train_sampler = SubsetRandomSampler(train_index)\n",
        "valid_sampler = SubsetRandomSampler(valid_index)\n",
        "# prepare data loaders\n",
        "train_loader = torch.utils.data.DataLoader(train_data, batch_size = batch_size, \n",
        "                                           sampler = train_sampler, num_workers = num_workers)\n",
        "valid_loader = torch.utils.data.DataLoader(train_data, batch_size = batch_size,\n",
        "                                          sampler = valid_sampler, num_workers = num_workers)\n",
        "test_loader = torch.utils.data.DataLoader(test_data, batch_size = batch_size,\n",
        "                                         num_workers = num_workers)"
      ],
      "metadata": {
        "id": "96zT9efRsASg"
      },
      "execution_count": 110,
      "outputs": []
    },
    {
      "cell_type": "code",
      "source": [
        "# Show example images \n",
        "\n",
        "# obtain one batch of training images\n",
        "dataiter = iter(train_loader)\n",
        "images, labels = dataiter.next()\n",
        "images = images.numpy()\n",
        "print(images.shape)\n",
        "\n",
        "# plot the images in the batch, along with the corresponding labels\n",
        "fig = plt.figure(figsize=(25, 4))\n",
        "for idx in np.arange(20):\n",
        "    ax = fig.add_subplot(2, 20/2, idx+1, xticks=[], yticks=[])\n",
        "    ax.imshow(np.squeeze(images[idx]), cmap='gray')\n",
        "    # print out the correct label for each image\n",
        "    # .item() gets the value contained in a Tensor\n",
        "    ax.set_title(str(labels[idx].item()))"
      ],
      "metadata": {
        "colab": {
          "base_uri": "https://localhost:8080/",
          "height": 286
        },
        "id": "M3lv7qnszKeV",
        "outputId": "cedfbaf3-3bbf-42bd-947f-372b518ac52c"
      },
      "execution_count": 111,
      "outputs": [
        {
          "output_type": "stream",
          "name": "stdout",
          "text": [
            "(20, 1, 28, 28)\n"
          ]
        },
        {
          "output_type": "display_data",
          "data": {
            "text/plain": [
              "<Figure size 1800x288 with 20 Axes>"
            ],
            "image/png": "[encoded data removed]"
          },
          "metadata": {}
        }
      ]
    },
    {
      "cell_type": "code",
      "source": [
        "# Show an image in detail \n",
        "\n",
        "img = np.squeeze(images[1])\n",
        "print(type(img[0][0])) # float32: sign bit, 8 bits exponent, 23 bits mantissa\n",
        "fig = plt.figure(figsize = (12,12)) \n",
        "ax = fig.add_subplot(111)\n",
        "ax.imshow(img, cmap='gray')\n",
        "width, height = img.shape\n",
        "thresh = img.max()/2.5\n",
        "for x in range(width):\n",
        "    for y in range(height):\n",
        "        val = round(img[x][y],2) if img[x][y] !=0 else 0\n",
        "        ax.annotate(str(val), xy=(y,x),\n",
        "                    horizontalalignment='center',\n",
        "                    verticalalignment='center',\n",
        "                    color='white' if img[x][y]<thresh else 'black')"
      ],
      "metadata": {
        "colab": {
          "base_uri": "https://localhost:8080/",
          "height": 718
        },
        "id": "oerrnZ_HzL6g",
        "outputId": "9028fb06-4a72-4a0d-df0f-707c60b6a179"
      },
      "execution_count": 112,
      "outputs": [
        {
          "output_type": "stream",
          "name": "stdout",
          "text": [
            "<class 'numpy.float64'>\n"
          ]
        },
        {
          "output_type": "display_data",
          "data": {
            "text/plain": [
              "<Figure size 864x864 with 1 Axes>"
            ],
            "image/png": "[encoded data removed]"
          },
          "metadata": {
            "needs_background": "light"
          }
        }
      ]
    },
    {
      "cell_type": "code",
      "source": [
        "# Define MLP architecture\n",
        "\n",
        "class Net(nn.Module):\n",
        "    def __init__(self):\n",
        "        super(Net,self).__init__()\n",
        "        # number of hidden nodes in each layer (512)\n",
        "        hidden_1 = 512\n",
        "        hidden_2 = 512\n",
        "        # linear layer (784 -> hidden_1)\n",
        "        self.fc1 = nn.Linear(28*28, 512)      # parameters and weights = torch.float32 (32 bits but exact fixed point not sure)\n",
        "        # linear layer (n_hidden -> hidden_2)\n",
        "        self.fc2 = nn.Linear(512,512)\n",
        "        # linear layer (n_hidden -> 10)\n",
        "        self.fc3 = nn.Linear(512,10)\n",
        "        # dropout layer (p=0.2)\n",
        "        # dropout prevents overfitting of data\n",
        "        self.droput = nn.Dropout(0.2)         # no dropout in the eval() mode (no impact in hw)\n",
        "        \n",
        "    def forward(self,x):\n",
        "        # flatten image input\n",
        "        x = x.view(-1,28*28)\n",
        "        # add hidden layer, with relu activation function\n",
        "        x = F.relu(self.fc1(x))\n",
        "        # add dropout layer\n",
        "        x = self.droput(x)\n",
        "        # add hidden layer, with relu activation function\n",
        "        x = F.relu(self.fc2(x))\n",
        "        # add dropout layer\n",
        "        x = self.droput(x)\n",
        "        # add output layer\n",
        "        x = self.fc3(x)\n",
        "        return x\n",
        "        \n",
        "# initialize the NN\n",
        "model = Net()\n",
        "print(model)"
      ],
      "metadata": {
        "colab": {
          "base_uri": "https://localhost:8080/"
        },
        "id": "iz2TinoUuGPQ",
        "outputId": "e03464b2-419c-4b31-a640-7592b8005981"
      },
      "execution_count": 25,
      "outputs": [
        {
          "output_type": "stream",
          "name": "stdout",
          "text": [
            "Net(\n",
            "  (fc1): Linear(in_features=784, out_features=512, bias=True)\n",
            "  (fc2): Linear(in_features=512, out_features=512, bias=True)\n",
            "  (fc3): Linear(in_features=512, out_features=10, bias=True)\n",
            "  (droput): Dropout(p=0.2, inplace=False)\n",
            ")\n"
          ]
        }
      ]
    },
    {
      "cell_type": "code",
      "source": [
        "# Define MLP architecture\n",
        "\n",
        "class Net(nn.Module):\n",
        "    def __init__(self):\n",
        "        super(Net,self).__init__()\n",
        "        # number of hidden nodes in each layer (512)\n",
        "        hidden_1 = 512\n",
        "        hidden_2 = 512\n",
        "        # linear layer (784 -> hidden_1)\n",
        "        self.fc1 = nn.Linear(28*28, 512)      # parameters and weights = torch.float32 (32 bits but exact fixed point not sure)\n",
        "        # linear layer (n_hidden -> hidden_2)\n",
        "        self.fc2 = nn.Linear(512,512)\n",
        "        # linear layer (n_hidden -> 10)\n",
        "        self.fc3 = nn.Linear(512,10)\n",
        "        # dropout layer (p=0.2)\n",
        "        # dropout prevents overfitting of data\n",
        "        self.droput = nn.Dropout(0.2)         # no dropout in the eval() mode (no impact in hw)\n",
        "        tensor = torch.ones(())\n",
        "        self.x = tensor.new_empty((20, 1, 28, 28))\n",
        "        self.y = tensor.new_empty((20, 784))\n",
        "        self.z = tensor.new_empty((20, 512))\n",
        "        self.k = tensor.new_empty((20, 512))\n",
        "        self.l = tensor.new_empty((20, 512))\n",
        "        self.m = tensor.new_empty((20, 512))\n",
        "        self.n = tensor.new_empty((20, 10))\n",
        "        \n",
        "    def forward(self,x):\n",
        "        # flatten image input\n",
        "        self.x = x\n",
        "        x = x.view(-1,28*28)\n",
        "        self.y = x\n",
        "        # add hidden layer, with relu activation function\n",
        "        x = self.fc1(x)\n",
        "        self.z = x\n",
        "        x = F.relu(x)\n",
        "        self.k = x\n",
        "        # add dropout layer\n",
        "        x = self.droput(x)\n",
        "        # add hidden layer, with relu activation function\n",
        "        x = self.fc2(x) \n",
        "        self.l = x\n",
        "        x = F.relu(self.fc2(x))\n",
        "        self.m = x\n",
        "        # add dropout layer\n",
        "        x = self.droput(x)\n",
        "        # add output layer\n",
        "        x = self.fc3(x)\n",
        "        self.n = x\n",
        "        return x\n",
        "        \n",
        "# initialize the NN\n",
        "model = Net()\n",
        "print(model)"
      ],
      "metadata": {
        "colab": {
          "base_uri": "https://localhost:8080/"
        },
        "id": "jzwurtWlzNWr",
        "outputId": "fbfd4101-dff3-4679-cc04-bb77cfb152de"
      },
      "execution_count": 113,
      "outputs": [
        {
          "output_type": "stream",
          "name": "stdout",
          "text": [
            "Net(\n",
            "  (fc1): Linear(in_features=784, out_features=512, bias=True)\n",
            "  (fc2): Linear(in_features=512, out_features=512, bias=True)\n",
            "  (fc3): Linear(in_features=512, out_features=10, bias=True)\n",
            "  (droput): Dropout(p=0.2, inplace=False)\n",
            ")\n"
          ]
        }
      ]
    },
    {
      "cell_type": "code",
      "source": [
        "# Define MLP architecture\n",
        "\n",
        "class Net_debugging(nn.Module):\n",
        "    def __init__(self):\n",
        "        super(Net_debugging,self).__init__()\n",
        "        # linear layer (784 -> hidden_1)\n",
        "        self.fc1 = nn.Linear(28*28, 10)\n",
        "        \n",
        "    def forward(self,x):\n",
        "        # flatten image input\n",
        "        x = x.view(-1,28*28)\n",
        "        # add hidden layer, with relu activation function\n",
        "        x = self.fc1(x)\n",
        "        return x\n",
        "        \n",
        "# initialize the NN\n",
        "model = Net_debugging()\n",
        "print(model)"
      ],
      "metadata": {
        "colab": {
          "base_uri": "https://localhost:8080/"
        },
        "id": "qvu6OHKxOo_b",
        "outputId": "eee9a2d7-0126-49b2-f972-29e5bfc98a07"
      },
      "execution_count": null,
      "outputs": [
        {
          "output_type": "stream",
          "name": "stdout",
          "text": [
            "Net_debugging(\n",
            "  (fc1): Linear(in_features=784, out_features=10, bias=True)\n",
            ")\n"
          ]
        }
      ]
    },
    {
      "cell_type": "code",
      "source": [
        "# specify loss function (categorical cross-entropy)\n",
        "criterion = nn.CrossEntropyLoss()\n",
        "# specify optimizer (stochastic gradient descent) and learning rate = 0.01\n",
        "optimizer = torch.optim.SGD(model.parameters(),lr = 0.01)"
      ],
      "metadata": {
        "id": "Iny0s6DqzPU4"
      },
      "execution_count": 114,
      "outputs": []
    },
    {
      "cell_type": "code",
      "source": [
        "# number of epochs to train the model\n",
        "n_epochs = 15\n",
        "\n",
        "# initialize tracker for minimum validation loss\n",
        "valid_loss_min = np.Inf  # set initial \"min\" to infinity\n",
        "\n",
        "\n",
        "# for epoch in range(n_epochs):\n",
        "for epoch in range(n_epochs):\n",
        "    # monitor losses\n",
        "    train_loss = 0\n",
        "    valid_loss = 0\n",
        "    \n",
        "     \n",
        "    ###################\n",
        "    # train the model #\n",
        "    ###################\n",
        "    model.train() # prep model for training\n",
        "    for data,label in train_loader:\n",
        "        # clear the gradients of all optimized variables\n",
        "        optimizer.zero_grad()\n",
        "        # forward pass: compute predicted outputs by passing inputs to the model\n",
        "        output = model(data)\n",
        "        # calculate the loss\n",
        "        loss = criterion(output,label)\n",
        "        # backward pass: compute gradient of the loss with respect to model parameters\n",
        "        loss.backward()\n",
        "        # perform a single optimization step (parameter update)\n",
        "        optimizer.step()\n",
        "        # update running training loss\n",
        "        train_loss += loss.item() * data.size(0)\n",
        "        \n",
        "        \n",
        "     ######################    \n",
        "    # validate the model #\n",
        "    ######################\n",
        "    model.eval()  # prep model for evaluation\n",
        "    for data,label in valid_loader:\n",
        "        # forward pass: compute predicted outputs by passing inputs to the model\n",
        "        output = model(data)\n",
        "        # calculate the loss\n",
        "        loss = criterion(output,label)\n",
        "        # update running validation loss \n",
        "        valid_loss = loss.item() * data.size(0)\n",
        "    \n",
        "    # print training/validation statistics \n",
        "    # calculate average loss over an epoch\n",
        "    train_loss = train_loss / len(train_loader.sampler)\n",
        "    valid_loss = valid_loss / len(valid_loader.sampler)\n",
        "    \n",
        "    print('Epoch: {} \\tTraining Loss: {:.6f} \\tValidation Loss: {:.6f}'.format(\n",
        "        epoch+1, \n",
        "        train_loss,\n",
        "        valid_loss\n",
        "        ))\n",
        "    \n",
        "    # save model if validation loss has decreased\n",
        "    if valid_loss <= valid_loss_min:\n",
        "        print('Validation loss decreased ({:.6f} --> {:.6f}).  Saving model ...'.format(\n",
        "        valid_loss_min,\n",
        "        valid_loss))\n",
        "        torch.save(model.state_dict(), 'model.pt')\n",
        "        valid_loss_min = valid_loss"
      ],
      "metadata": {
        "colab": {
          "base_uri": "https://localhost:8080/"
        },
        "id": "gl1lsK56zQyZ",
        "outputId": "69b4700c-082f-4e4e-bbc9-e3691eb9d1b2"
      },
      "execution_count": 115,
      "outputs": [
        {
          "output_type": "stream",
          "name": "stdout",
          "text": [
            "Epoch: 1 \tTraining Loss: 1.046275 \tValidation Loss: 0.000817\n",
            "Validation loss decreased (inf --> 0.000817).  Saving model ...\n",
            "Epoch: 2 \tTraining Loss: 0.347460 \tValidation Loss: 0.000828\n",
            "Epoch: 3 \tTraining Loss: 0.252362 \tValidation Loss: 0.000077\n",
            "Validation loss decreased (0.000817 --> 0.000077).  Saving model ...\n",
            "Epoch: 4 \tTraining Loss: 0.194734 \tValidation Loss: 0.000245\n",
            "Epoch: 5 \tTraining Loss: 0.157409 \tValidation Loss: 0.000069\n",
            "Validation loss decreased (0.000077 --> 0.000069).  Saving model ...\n",
            "Epoch: 6 \tTraining Loss: 0.131711 \tValidation Loss: 0.000048\n",
            "Validation loss decreased (0.000069 --> 0.000048).  Saving model ...\n",
            "Epoch: 7 \tTraining Loss: 0.112399 \tValidation Loss: 0.000024\n",
            "Validation loss decreased (0.000048 --> 0.000024).  Saving model ...\n",
            "Epoch: 8 \tTraining Loss: 0.097764 \tValidation Loss: 0.000233\n",
            "Epoch: 9 \tTraining Loss: 0.087020 \tValidation Loss: 0.000003\n",
            "Validation loss decreased (0.000024 --> 0.000003).  Saving model ...\n",
            "Epoch: 10 \tTraining Loss: 0.076794 \tValidation Loss: 0.000042\n",
            "Epoch: 11 \tTraining Loss: 0.069237 \tValidation Loss: 0.000010\n",
            "Epoch: 12 \tTraining Loss: 0.061574 \tValidation Loss: 0.000098\n",
            "Epoch: 13 \tTraining Loss: 0.056680 \tValidation Loss: 0.000161\n",
            "Epoch: 14 \tTraining Loss: 0.051082 \tValidation Loss: 0.000275\n",
            "Epoch: 15 \tTraining Loss: 0.045221 \tValidation Loss: 0.000226\n"
          ]
        }
      ]
    },
    {
      "cell_type": "code",
      "source": [
        "# Check last layer of the model -- whether automatically use an activation? no \n",
        "\n",
        "model.eval()\n",
        "\n",
        "# obtain one batch of test images\n",
        "dataiter = iter(test_loader)\n",
        "images, labels = dataiter.next()\n",
        "\n",
        "# print(images[0].shape)\n",
        "# print(type(images[0]))\n",
        "\n",
        "# get sample outputsx\n",
        "output = model(images)\n",
        "\n",
        "print(output) # signed raw 10 float32 outputs\n",
        "print(type(output))\n",
        "print(len(output))\n",
        "# print(output)\n",
        "print(output.shape)\n",
        "print(output[0])"
      ],
      "metadata": {
        "colab": {
          "base_uri": "https://localhost:8080/"
        },
        "id": "IHGDwSz-vhhC",
        "outputId": "8bf5c2c9-558a-4238-ea50-bb22a9c900cd"
      },
      "execution_count": 116,
      "outputs": [
        {
          "output_type": "stream",
          "name": "stdout",
          "text": [
            "tensor([[ -2.5868,  -0.5140,   3.8175,   4.8947,  -6.1448,  -2.1561, -12.5296,\n",
            "          14.4381,  -0.8246,   2.3507],\n",
            "        [  0.8338,   3.4989,  12.6833,   3.4877, -10.2162,  -1.5612,   2.5366,\n",
            "          -3.0921,   2.9151,  -9.2300],\n",
            "        [ -6.3430,   9.4048,   1.8495,  -0.7682,  -0.4281,  -1.4018,   0.0957,\n",
            "           1.8513,   1.8735,  -4.2759],\n",
            "        [ 11.5074,  -6.0686,   2.0376,  -2.4803,  -5.4833,   0.5141,   1.4725,\n",
            "           0.8494,  -3.0726,   0.7723],\n",
            "        [ -1.9100,  -3.7035,  -1.5768,  -5.6580,  12.1363,  -1.8938,   0.0711,\n",
            "           2.5896,  -3.1037,   4.8456],\n",
            "        [ -8.1080,  12.6279,   1.2084,  -1.1416,   1.8376,  -4.2107,  -2.6863,\n",
            "           5.0851,   0.5241,  -3.1178],\n",
            "        [ -5.4748,  -2.1134,  -4.8932,  -5.2344,  11.1672,   1.9614,   0.7934,\n",
            "          -1.2217,   4.0526,   3.3079],\n",
            "        [ -4.9122,  -1.6193,   0.2690,   5.6900,   0.3546,  -1.9034,  -8.5247,\n",
            "           2.2529,   1.5456,   8.5436],\n",
            "        [ -1.1922,  -3.6466,  -3.2893,  -5.7027,   5.6981,   7.3199,   7.2388,\n",
            "          -6.6239,   1.9321,   0.0807],\n",
            "        [ -4.9409,  -4.8442,  -5.6325,   0.3028,   7.3956,  -1.2360,  -9.7898,\n",
            "           4.7303,   3.4537,  12.6272],\n",
            "        [ 14.6097,  -6.9990,   3.4809,  -3.7905,  -7.5823,   0.9771,   1.9826,\n",
            "           0.6901,  -3.9023,   0.3286],\n",
            "        [  4.1446,  -3.0060,   0.1505,  -5.9530,   1.2239,   2.8361,  12.4838,\n",
            "          -6.1045,   1.3131,  -6.1164],\n",
            "        [ -4.5129,  -5.3216,  -5.3909,   2.8255,   4.4375,   1.7653,  -8.9846,\n",
            "           2.0394,   1.6424,  13.3226],\n",
            "        [ 14.9837,  -8.3084,   2.9252,  -4.2248,  -6.7161,   0.1156,   0.3254,\n",
            "           1.8285,  -3.2744,   1.9998],\n",
            "        [-10.0473,  13.8158,  -0.1848,   2.7111,  -0.0723,  -3.3311,  -2.6897,\n",
            "           1.8339,   2.2038,  -2.1149],\n",
            "        [ -2.5188,   0.4637,  -3.0740,   5.4207,  -5.2854,  10.8071,  -1.6892,\n",
            "          -3.7651,   0.5487,   0.0626],\n",
            "        [ -0.7618,  -6.5514,  -1.3008,  -0.2823,   3.2832,  -2.6737,  -6.8394,\n",
            "           3.7634,   0.5541,  12.3251],\n",
            "        [ -0.1735,  -2.2794,   5.1403,   4.9497,  -7.9051,  -2.4022, -11.8719,\n",
            "          15.1897,  -2.5951,   2.4726],\n",
            "        [ -3.1040,  -0.8699,   0.7103,   8.3792,  -3.5732,   1.4134,  -4.0255,\n",
            "          -1.9964,   3.2048,   1.3618],\n",
            "        [ -4.4794,  -1.4539,  -3.4567,  -4.4818,  14.9157,  -0.4233,   0.1508,\n",
            "           1.1771,  -3.0382,   3.3514]], grad_fn=<AddmmBackward0>)\n",
            "<class 'torch.Tensor'>\n",
            "20\n",
            "torch.Size([20, 10])\n",
            "tensor([ -2.5868,  -0.5140,   3.8175,   4.8947,  -6.1448,  -2.1561, -12.5296,\n",
            "         14.4381,  -0.8246,   2.3507], grad_fn=<SelectBackward0>)\n"
          ]
        }
      ]
    },
    {
      "cell_type": "code",
      "source": [
        "# print(model.y.shape)\n",
        "print(model.n[:11].detach().numpy())"
      ],
      "metadata": {
        "colab": {
          "base_uri": "https://localhost:8080/"
        },
        "id": "1ZToXv1n4-Dt",
        "outputId": "f44841d9-0aa4-4618-d185-a0bee8386b52"
      },
      "execution_count": 117,
      "outputs": [
        {
          "output_type": "stream",
          "name": "stdout",
          "text": [
            "[[ -2.58679285  -0.5140171    3.81751358   4.89470186  -6.14480286\n",
            "   -2.1561424  -12.52957414  14.4381363   -0.82456604   2.35072442]\n",
            " [  0.83375197   3.49887138  12.68327641   3.48774131 -10.2161554\n",
            "   -1.56117424   2.53659554  -3.0921173    2.91514076  -9.23003762]\n",
            " [ -6.3430433    9.40479625   1.84946871  -0.76821115  -0.42814543\n",
            "   -1.40176974   0.09568872   1.85127637   1.87351988  -4.27588535]\n",
            " [ 11.50738808  -6.06858827   2.03756473  -2.48025383  -5.48327125\n",
            "    0.51407987   1.4725119    0.84939482  -3.07255823   0.77231728]\n",
            " [ -1.90995401  -3.70351039  -1.57680116  -5.65803318  12.13634055\n",
            "   -1.89378326   0.07105454   2.58959011  -3.10374812   4.84558596]\n",
            " [ -8.10799401  12.62786998   1.20837815  -1.1415695    1.83762048\n",
            "   -4.2106796   -2.68634529   5.08505586   0.52412243  -3.11779889]\n",
            " [ -5.47476098  -2.11336239  -4.89315097  -5.23437031  11.16721603\n",
            "    1.96142429   0.79341543  -1.22171373   4.05256718   3.30789978]\n",
            " [ -4.91218921  -1.61928372   0.26904607   5.68999618   0.35455256\n",
            "   -1.90341234  -8.52465541   2.2528509    1.54559014   8.54355826]\n",
            " [ -1.19219212  -3.64657266  -3.28925018  -5.70269372   5.69805971\n",
            "    7.31994617   7.23884595  -6.62386181   1.93209267   0.08072083]\n",
            " [ -4.94087208  -4.84421085  -5.63251244   0.30276511   7.3955638\n",
            "   -1.23604064  -9.78979813   4.73033141   3.4536865   12.62723825]\n",
            " [ 14.60967891  -6.9990265    3.48086299  -3.79046335  -7.58225209\n",
            "    0.97706802   1.98261844   0.69014054  -3.90230648   0.32857249]]\n"
          ]
        }
      ]
    },
    {
      "cell_type": "code",
      "source": [
        "# Save layerwise outputs\n",
        "\n",
        "! mkdir save_parameters\n",
        "! cd save_parameters\n",
        "fc1_inputs = model.x[:11].detach().numpy().reshape(1, -1)\n",
        "print(fc1_inputs.shape)\n",
        "fc1_outputs = model.z[:11].detach().numpy().reshape(1, -1)\n",
        "print(fc1_outputs.shape)\n",
        "\n",
        "pd.DataFrame(fc1_inputs).to_csv('fc1_inputs.dat', index=False, header=False)\n",
        "pd.DataFrame(fc1_outputs).to_csv('fc1_outputs.dat', index=False, header=False)\n",
        "\n",
        "relu1_outputs = model.k[:11].detach().numpy().reshape(1, -1)  \n",
        "print(relu1_outputs.shape) \n",
        "pd.DataFrame(relu1_outputs).to_csv('relu1_outputs.dat', index=False, header=False)\n",
        "fc2_outputs = model.l[:11].detach().numpy().reshape(1, -1)\n",
        "print(fc2_outputs.shape) \n",
        "pd.DataFrame(fc2_outputs).to_csv('fc2_outputs.dat', index=False, header=False)\n",
        "\n",
        "relu2_outputs = model.m[:11].detach().numpy().reshape(1, -1)\n",
        "print(relu2_outputs.shape) \n",
        "pd.DataFrame(relu2_outputs).to_csv('relu2_outputs.dat', index=False, header=False)\n",
        "fc3_outputs = model.n[:11].detach().numpy().reshape(1, -1)\n",
        "print(fc3_outputs.shape) \n",
        "pd.DataFrame(fc3_outputs).to_csv('fc3_outputs.dat', index=False, header=False)\n",
        "\n",
        "files.download('fc1_inputs.dat')\n",
        "files.download('fc1_outputs.dat')\n",
        "\n",
        "files.download('relu1_outputs.dat')\n",
        "files.download('fc2_outputs.dat')\n",
        "\n",
        "files.download('relu2_outputs.dat')\n",
        "files.download('fc3_outputs.dat')"
      ],
      "metadata": {
        "colab": {
          "base_uri": "https://localhost:8080/",
          "height": 145
        },
        "id": "tLDdyxucv_WY",
        "outputId": "38b6f762-00a6-4962-9224-9b1807cd67d0"
      },
      "execution_count": 118,
      "outputs": [
        {
          "output_type": "stream",
          "name": "stdout",
          "text": [
            "mkdir: cannot create directory ‘save_parameters’: File exists\n",
            "(1, 8624)\n",
            "(1, 5632)\n",
            "(1, 5632)\n",
            "(1, 5632)\n",
            "(1, 5632)\n",
            "(1, 110)\n"
          ]
        },
        {
          "output_type": "display_data",
          "data": {
            "text/plain": [
              "<IPython.core.display.Javascript object>"
            ],
            "application/javascript": [
              "\n",
              "    async function download(id, filename, size) {\n",
              "      if (!google.colab.kernel.accessAllowed) {\n",
              "        return;\n",
              "      }\n",
              "      const div = document.createElement('div');\n",
              "      const label = document.createElement('label');\n",
              "      label.textContent = `Downloading \"${filename}\": `;\n",
              "      div.appendChild(label);\n",
              "      const progress = document.createElement('progress');\n",
              "      progress.max = size;\n",
              "      div.appendChild(progress);\n",
              "      document.body.appendChild(div);\n",
              "\n",
              "      const buffers = [];\n",
              "      let downloaded = 0;\n",
              "\n",
              "      const channel = await google.colab.kernel.comms.open(id);\n",
              "      // Send a message to notify the kernel that we're ready.\n",
              "      channel.send({})\n",
              "\n",
              "      for await (const message of channel.messages) {\n",
              "        // Send a message to notify the kernel that we're ready.\n",
              "        channel.send({})\n",
              "        if (message.buffers) {\n",
              "          for (const buffer of message.buffers) {\n",
              "            buffers.push(buffer);\n",
              "            downloaded += buffer.byteLength;\n",
              "            progress.value = downloaded;\n",
              "          }\n",
              "        }\n",
              "      }\n",
              "      const blob = new Blob(buffers, {type: 'application/binary'});\n",
              "      const a = document.createElement('a');\n",
              "      a.href = window.URL.createObjectURL(blob);\n",
              "      a.download = filename;\n",
              "      div.appendChild(a);\n",
              "      a.click();\n",
              "      div.remove();\n",
              "    }\n",
              "  "
            ]
          },
          "metadata": {}
        },
        {
          "output_type": "display_data",
          "data": {
            "text/plain": [
              "<IPython.core.display.Javascript object>"
            ],
            "application/javascript": [
              "download(\"download_dc8f98b5-ed9c-4285-943b-0039a79167a8\", \"fc1_inputs.dat\", 56906)"
            ]
          },
          "metadata": {}
        },
        {
          "output_type": "display_data",
          "data": {
            "text/plain": [
              "<IPython.core.display.Javascript object>"
            ],
            "application/javascript": [
              "\n",
              "    async function download(id, filename, size) {\n",
              "      if (!google.colab.kernel.accessAllowed) {\n",
              "        return;\n",
              "      }\n",
              "      const div = document.createElement('div');\n",
              "      const label = document.createElement('label');\n",
              "      label.textContent = `Downloading \"${filename}\": `;\n",
              "      div.appendChild(label);\n",
              "      const progress = document.createElement('progress');\n",
              "      progress.max = size;\n",
              "      div.appendChild(progress);\n",
              "      document.body.appendChild(div);\n",
              "\n",
              "      const buffers = [];\n",
              "      let downloaded = 0;\n",
              "\n",
              "      const channel = await google.colab.kernel.comms.open(id);\n",
              "      // Send a message to notify the kernel that we're ready.\n",
              "      channel.send({})\n",
              "\n",
              "      for await (const message of channel.messages) {\n",
              "        // Send a message to notify the kernel that we're ready.\n",
              "        channel.send({})\n",
              "        if (message.buffers) {\n",
              "          for (const buffer of message.buffers) {\n",
              "            buffers.push(buffer);\n",
              "            downloaded += buffer.byteLength;\n",
              "            progress.value = downloaded;\n",
              "          }\n",
              "        }\n",
              "      }\n",
              "      const blob = new Blob(buffers, {type: 'application/binary'});\n",
              "      const a = document.createElement('a');\n",
              "      a.href = window.URL.createObjectURL(blob);\n",
              "      a.download = filename;\n",
              "      div.appendChild(a);\n",
              "      a.click();\n",
              "      div.remove();\n",
              "    }\n",
              "  "
            ]
          },
          "metadata": {}
        },
        {
          "output_type": "display_data",
          "data": {
            "text/plain": [
              "<IPython.core.display.Javascript object>"
            ],
            "application/javascript": [
              "download(\"download_794a5c7b-a2fc-4b8f-955d-f52faa35e5ac\", \"fc1_outputs.dat\", 113719)"
            ]
          },
          "metadata": {}
        },
        {
          "output_type": "display_data",
          "data": {
            "text/plain": [
              "<IPython.core.display.Javascript object>"
            ],
            "application/javascript": [
              "\n",
              "    async function download(id, filename, size) {\n",
              "      if (!google.colab.kernel.accessAllowed) {\n",
              "        return;\n",
              "      }\n",
              "      const div = document.createElement('div');\n",
              "      const label = document.createElement('label');\n",
              "      label.textContent = `Downloading \"${filename}\": `;\n",
              "      div.appendChild(label);\n",
              "      const progress = document.createElement('progress');\n",
              "      progress.max = size;\n",
              "      div.appendChild(progress);\n",
              "      document.body.appendChild(div);\n",
              "\n",
              "      const buffers = [];\n",
              "      let downloaded = 0;\n",
              "\n",
              "      const channel = await google.colab.kernel.comms.open(id);\n",
              "      // Send a message to notify the kernel that we're ready.\n",
              "      channel.send({})\n",
              "\n",
              "      for await (const message of channel.messages) {\n",
              "        // Send a message to notify the kernel that we're ready.\n",
              "        channel.send({})\n",
              "        if (message.buffers) {\n",
              "          for (const buffer of message.buffers) {\n",
              "            buffers.push(buffer);\n",
              "            downloaded += buffer.byteLength;\n",
              "            progress.value = downloaded;\n",
              "          }\n",
              "        }\n",
              "      }\n",
              "      const blob = new Blob(buffers, {type: 'application/binary'});\n",
              "      const a = document.createElement('a');\n",
              "      a.href = window.URL.createObjectURL(blob);\n",
              "      a.download = filename;\n",
              "      div.appendChild(a);\n",
              "      a.click();\n",
              "      div.remove();\n",
              "    }\n",
              "  "
            ]
          },
          "metadata": {}
        },
        {
          "output_type": "display_data",
          "data": {
            "text/plain": [
              "<IPython.core.display.Javascript object>"
            ],
            "application/javascript": [
              "download(\"download_a0bcc819-1345-4866-9639-f431c1200f79\", \"relu1_outputs.dat\", 58996)"
            ]
          },
          "metadata": {}
        },
        {
          "output_type": "display_data",
          "data": {
            "text/plain": [
              "<IPython.core.display.Javascript object>"
            ],
            "application/javascript": [
              "\n",
              "    async function download(id, filename, size) {\n",
              "      if (!google.colab.kernel.accessAllowed) {\n",
              "        return;\n",
              "      }\n",
              "      const div = document.createElement('div');\n",
              "      const label = document.createElement('label');\n",
              "      label.textContent = `Downloading \"${filename}\": `;\n",
              "      div.appendChild(label);\n",
              "      const progress = document.createElement('progress');\n",
              "      progress.max = size;\n",
              "      div.appendChild(progress);\n",
              "      document.body.appendChild(div);\n",
              "\n",
              "      const buffers = [];\n",
              "      let downloaded = 0;\n",
              "\n",
              "      const channel = await google.colab.kernel.comms.open(id);\n",
              "      // Send a message to notify the kernel that we're ready.\n",
              "      channel.send({})\n",
              "\n",
              "      for await (const message of channel.messages) {\n",
              "        // Send a message to notify the kernel that we're ready.\n",
              "        channel.send({})\n",
              "        if (message.buffers) {\n",
              "          for (const buffer of message.buffers) {\n",
              "            buffers.push(buffer);\n",
              "            downloaded += buffer.byteLength;\n",
              "            progress.value = downloaded;\n",
              "          }\n",
              "        }\n",
              "      }\n",
              "      const blob = new Blob(buffers, {type: 'application/binary'});\n",
              "      const a = document.createElement('a');\n",
              "      a.href = window.URL.createObjectURL(blob);\n",
              "      a.download = filename;\n",
              "      div.appendChild(a);\n",
              "      a.click();\n",
              "      div.remove();\n",
              "    }\n",
              "  "
            ]
          },
          "metadata": {}
        },
        {
          "output_type": "display_data",
          "data": {
            "text/plain": [
              "<IPython.core.display.Javascript object>"
            ],
            "application/javascript": [
              "download(\"download_3023177f-d64c-4077-969d-f54875b60e49\", \"fc2_outputs.dat\", 114162)"
            ]
          },
          "metadata": {}
        },
        {
          "output_type": "display_data",
          "data": {
            "text/plain": [
              "<IPython.core.display.Javascript object>"
            ],
            "application/javascript": [
              "\n",
              "    async function download(id, filename, size) {\n",
              "      if (!google.colab.kernel.accessAllowed) {\n",
              "        return;\n",
              "      }\n",
              "      const div = document.createElement('div');\n",
              "      const label = document.createElement('label');\n",
              "      label.textContent = `Downloading \"${filename}\": `;\n",
              "      div.appendChild(label);\n",
              "      const progress = document.createElement('progress');\n",
              "      progress.max = size;\n",
              "      div.appendChild(progress);\n",
              "      document.body.appendChild(div);\n",
              "\n",
              "      const buffers = [];\n",
              "      let downloaded = 0;\n",
              "\n",
              "      const channel = await google.colab.kernel.comms.open(id);\n",
              "      // Send a message to notify the kernel that we're ready.\n",
              "      channel.send({})\n",
              "\n",
              "      for await (const message of channel.messages) {\n",
              "        // Send a message to notify the kernel that we're ready.\n",
              "        channel.send({})\n",
              "        if (message.buffers) {\n",
              "          for (const buffer of message.buffers) {\n",
              "            buffers.push(buffer);\n",
              "            downloaded += buffer.byteLength;\n",
              "            progress.value = downloaded;\n",
              "          }\n",
              "        }\n",
              "      }\n",
              "      const blob = new Blob(buffers, {type: 'application/binary'});\n",
              "      const a = document.createElement('a');\n",
              "      a.href = window.URL.createObjectURL(blob);\n",
              "      a.download = filename;\n",
              "      div.appendChild(a);\n",
              "      a.click();\n",
              "      div.remove();\n",
              "    }\n",
              "  "
            ]
          },
          "metadata": {}
        },
        {
          "output_type": "display_data",
          "data": {
            "text/plain": [
              "<IPython.core.display.Javascript object>"
            ],
            "application/javascript": [
              "download(\"download_a0066cbc-7d21-489c-b00c-66dbcd1f33ae\", \"relu2_outputs.dat\", 74724)"
            ]
          },
          "metadata": {}
        },
        {
          "output_type": "display_data",
          "data": {
            "text/plain": [
              "<IPython.core.display.Javascript object>"
            ],
            "application/javascript": [
              "\n",
              "    async function download(id, filename, size) {\n",
              "      if (!google.colab.kernel.accessAllowed) {\n",
              "        return;\n",
              "      }\n",
              "      const div = document.createElement('div');\n",
              "      const label = document.createElement('label');\n",
              "      label.textContent = `Downloading \"${filename}\": `;\n",
              "      div.appendChild(label);\n",
              "      const progress = document.createElement('progress');\n",
              "      progress.max = size;\n",
              "      div.appendChild(progress);\n",
              "      document.body.appendChild(div);\n",
              "\n",
              "      const buffers = [];\n",
              "      let downloaded = 0;\n",
              "\n",
              "      const channel = await google.colab.kernel.comms.open(id);\n",
              "      // Send a message to notify the kernel that we're ready.\n",
              "      channel.send({})\n",
              "\n",
              "      for await (const message of channel.messages) {\n",
              "        // Send a message to notify the kernel that we're ready.\n",
              "        channel.send({})\n",
              "        if (message.buffers) {\n",
              "          for (const buffer of message.buffers) {\n",
              "            buffers.push(buffer);\n",
              "            downloaded += buffer.byteLength;\n",
              "            progress.value = downloaded;\n",
              "          }\n",
              "        }\n",
              "      }\n",
              "      const blob = new Blob(buffers, {type: 'application/binary'});\n",
              "      const a = document.createElement('a');\n",
              "      a.href = window.URL.createObjectURL(blob);\n",
              "      a.download = filename;\n",
              "      div.appendChild(a);\n",
              "      a.click();\n",
              "      div.remove();\n",
              "    }\n",
              "  "
            ]
          },
          "metadata": {}
        },
        {
          "output_type": "display_data",
          "data": {
            "text/plain": [
              "<IPython.core.display.Javascript object>"
            ],
            "application/javascript": [
              "download(\"download_2482ce9a-46c0-4904-882d-7e7ffa17f114\", \"fc3_outputs.dat\", 2105)"
            ]
          },
          "metadata": {}
        }
      ]
    },
    {
      "cell_type": "code",
      "source": [
        "# Check last layer of the model -- whether automatically use an activation? no \n",
        "\n",
        "model.eval()\n",
        "\n",
        "# obtain one batch of test images\n",
        "dataiter = iter(test_loader)\n",
        "images, labels = dataiter.next()\n",
        "\n",
        "print(images[0].shape)\n",
        "print(type(images[0]))\n",
        "\n",
        "# get sample outputsx\n",
        "output = model(images)\n",
        "\n",
        "# print(output) # signed raw 10 float32 outputs\n",
        "print(type(output))\n",
        "print(len(output))\n",
        "print(output)\n",
        "\n",
        "# convert output probabilities to predicted class\n",
        "_, preds = torch.max(output, 1)\n",
        "\n",
        "print(preds) # 1 integer per image \n",
        "\n",
        "# # Save the final layer outputs of the first 11 images\n",
        "\n",
        "# saved_outputs = output.detach().numpy()[:11] \n",
        "# print(saved_outputs.shape)\n",
        "\n",
        "# pd.DataFrame(saved_outputs).to_csv('single_layer_out_784x10.dat', index=False, header=False)\n",
        "# files.download('single_layer_out_784x10.dat')"
      ],
      "metadata": {
        "colab": {
          "base_uri": "https://localhost:8080/"
        },
        "id": "Ij7TstD2WRl8",
        "outputId": "0058d890-011d-4218-c630-0dac81d6a3a0"
      },
      "execution_count": 119,
      "outputs": [
        {
          "output_type": "stream",
          "name": "stdout",
          "text": [
            "torch.Size([1, 28, 28])\n",
            "<class 'torch.Tensor'>\n",
            "<class 'torch.Tensor'>\n",
            "20\n",
            "tensor([[ -2.5868,  -0.5140,   3.8175,   4.8947,  -6.1448,  -2.1561, -12.5296,\n",
            "          14.4381,  -0.8246,   2.3507],\n",
            "        [  0.8338,   3.4989,  12.6833,   3.4877, -10.2162,  -1.5612,   2.5366,\n",
            "          -3.0921,   2.9151,  -9.2300],\n",
            "        [ -6.3430,   9.4048,   1.8495,  -0.7682,  -0.4281,  -1.4018,   0.0957,\n",
            "           1.8513,   1.8735,  -4.2759],\n",
            "        [ 11.5074,  -6.0686,   2.0376,  -2.4803,  -5.4833,   0.5141,   1.4725,\n",
            "           0.8494,  -3.0726,   0.7723],\n",
            "        [ -1.9100,  -3.7035,  -1.5768,  -5.6580,  12.1363,  -1.8938,   0.0711,\n",
            "           2.5896,  -3.1037,   4.8456],\n",
            "        [ -8.1080,  12.6279,   1.2084,  -1.1416,   1.8376,  -4.2107,  -2.6863,\n",
            "           5.0851,   0.5241,  -3.1178],\n",
            "        [ -5.4748,  -2.1134,  -4.8932,  -5.2344,  11.1672,   1.9614,   0.7934,\n",
            "          -1.2217,   4.0526,   3.3079],\n",
            "        [ -4.9122,  -1.6193,   0.2690,   5.6900,   0.3546,  -1.9034,  -8.5247,\n",
            "           2.2529,   1.5456,   8.5436],\n",
            "        [ -1.1922,  -3.6466,  -3.2893,  -5.7027,   5.6981,   7.3199,   7.2388,\n",
            "          -6.6239,   1.9321,   0.0807],\n",
            "        [ -4.9409,  -4.8442,  -5.6325,   0.3028,   7.3956,  -1.2360,  -9.7898,\n",
            "           4.7303,   3.4537,  12.6272],\n",
            "        [ 14.6097,  -6.9990,   3.4809,  -3.7905,  -7.5823,   0.9771,   1.9826,\n",
            "           0.6901,  -3.9023,   0.3286],\n",
            "        [  4.1446,  -3.0060,   0.1505,  -5.9530,   1.2239,   2.8361,  12.4838,\n",
            "          -6.1045,   1.3131,  -6.1164],\n",
            "        [ -4.5129,  -5.3216,  -5.3909,   2.8255,   4.4375,   1.7653,  -8.9846,\n",
            "           2.0394,   1.6424,  13.3226],\n",
            "        [ 14.9837,  -8.3084,   2.9252,  -4.2248,  -6.7161,   0.1156,   0.3254,\n",
            "           1.8285,  -3.2744,   1.9998],\n",
            "        [-10.0473,  13.8158,  -0.1848,   2.7111,  -0.0723,  -3.3311,  -2.6897,\n",
            "           1.8339,   2.2038,  -2.1149],\n",
            "        [ -2.5188,   0.4637,  -3.0740,   5.4207,  -5.2854,  10.8071,  -1.6892,\n",
            "          -3.7651,   0.5487,   0.0626],\n",
            "        [ -0.7618,  -6.5514,  -1.3008,  -0.2823,   3.2832,  -2.6737,  -6.8394,\n",
            "           3.7634,   0.5541,  12.3251],\n",
            "        [ -0.1735,  -2.2794,   5.1403,   4.9497,  -7.9051,  -2.4022, -11.8719,\n",
            "          15.1897,  -2.5951,   2.4726],\n",
            "        [ -3.1040,  -0.8699,   0.7103,   8.3792,  -3.5732,   1.4134,  -4.0255,\n",
            "          -1.9964,   3.2048,   1.3618],\n",
            "        [ -4.4794,  -1.4539,  -3.4567,  -4.4818,  14.9157,  -0.4233,   0.1508,\n",
            "           1.1771,  -3.0382,   3.3514]], grad_fn=<AddmmBackward0>)\n",
            "tensor([7, 2, 1, 0, 4, 1, 4, 9, 5, 9, 0, 6, 9, 0, 1, 5, 9, 7, 3, 4])\n"
          ]
        }
      ]
    },
    {
      "cell_type": "code",
      "source": [
        ""
      ],
      "metadata": {
        "id": "hD7nP80Etyf1"
      },
      "execution_count": 32,
      "outputs": []
    },
    {
      "cell_type": "code",
      "source": [
        ""
      ],
      "metadata": {
        "id": "I_r2oKICqIR2"
      },
      "execution_count": null,
      "outputs": []
    },
    {
      "cell_type": "code",
      "source": [
        "# Save the final layer outputs of the first 11 images\n",
        "\n",
        "saved_outputs = output.detach().numpy()[:11] \n",
        "print(saved_outputs.shape)\n",
        "\n",
        "pd.DataFrame(saved_outputs).to_csv('single_layer_out_784x10.dat', index=False, header=False)\n",
        "files.download('single_layer_out_784x10.dat')"
      ],
      "metadata": {
        "id": "7E7bmDsupKae"
      },
      "execution_count": null,
      "outputs": []
    },
    {
      "cell_type": "code",
      "source": [
        "scale = 2 ** 5 \n",
        "fc1_scaled_weights = model.fc1.weight.detach().numpy() * scale \n",
        "fc2_scaled_weights = model.fc2.weight.detach().numpy() * scale \n",
        "fc3_scaled_weights = model.fc3.weight.detach().numpy() * scale \n",
        "\n",
        "fc1_scaled_bias = model.fc1.bias.detach().numpy() * scale \n",
        "fc2_scaled_bias = model.fc2.bias.detach().numpy() * scale \n",
        "fc3_scaled_bias = model.fc3.bias.detach().numpy() * scale \n",
        "\n",
        "print(model.fc1.weight.detach().numpy())\n",
        "print(fc1_scaled_weights)"
      ],
      "metadata": {
        "colab": {
          "base_uri": "https://localhost:8080/"
        },
        "id": "v3288CxW_KlS",
        "outputId": "75ed6349-7e55-4f86-fc2b-cc039dca0988"
      },
      "execution_count": null,
      "outputs": [
        {
          "output_type": "stream",
          "name": "stdout",
          "text": [
            "[[ 0.00674902  0.01285053 -0.00294661 ... -0.02314218 -0.0035126\n",
            "  -0.01272364]\n",
            " [-0.01321381 -0.03402835  0.03556682 ... -0.00113082 -0.0307312\n",
            "   0.0099228 ]\n",
            " [-0.02751008 -0.00433029 -0.01651425 ...  0.0103045   0.01623522\n",
            "   0.00115037]\n",
            " ...\n",
            " [-0.03237298  0.03165776  0.01300099 ...  0.01930032  0.01010458\n",
            "  -0.02780359]\n",
            " [-0.00793496 -0.0244325  -0.02013677 ...  0.01000587 -0.01867454\n",
            "  -0.00903092]\n",
            " [ 0.01877061  0.00767793 -0.02014781 ... -0.0034211   0.03236701\n",
            "   0.00389756]]\n",
            "[[ 0.21596872  0.41121698 -0.09429162 ... -0.74054962 -0.11240314\n",
            "  -0.40715636]\n",
            " [-0.42284192 -1.08890724  1.13813836 ... -0.03618628 -0.98339846\n",
            "   0.31752971]\n",
            " [-0.88032256 -0.1385692  -0.52845596 ...  0.32974416  0.51952692\n",
            "   0.03681171]\n",
            " ...\n",
            " [-1.03593546  1.01304835  0.41603169 ...  0.61761029  0.32334649\n",
            "  -0.88971501]\n",
            " [-0.25391869 -0.78184    -0.64437657 ...  0.32018798 -0.59758529\n",
            "  -0.28898936]\n",
            " [ 0.60065952  0.24569373 -0.64472994 ... -0.10947531  1.03574418\n",
            "   0.12472182]]\n"
          ]
        }
      ]
    },
    {
      "cell_type": "code",
      "source": [
        "# Save raw double weights as dat without reshape \n",
        "\n",
        "! mkdir save_parameters\n",
        "! cd save_parameters\n",
        "\n",
        "fc1_double_weights = model.fc1.weight.detach().numpy() \n",
        "fc2_double_weights = model.fc2.weight.detach().numpy() \n",
        "fc3_double_weights = model.fc3.weight.detach().numpy() \n",
        "\n",
        "fc1_double_bias = model.fc1.bias.detach().numpy() \n",
        "fc2_double_bias = model.fc2.bias.detach().numpy() \n",
        "fc3_double_bias = model.fc3.bias.detach().numpy() \n",
        "\n",
        "\n",
        "pd.DataFrame(fc1_double_weights).to_csv('fc1_double_weights.dat', index=False, header=False)\n",
        "pd.DataFrame(fc2_double_weights).to_csv('fc2_double_weights.dat', index=False, header=False)\n",
        "pd.DataFrame(fc3_double_weights).to_csv('fc3_double_weights.dat', index=False, header=False)\n",
        "\n",
        "pd.DataFrame(fc1_double_bias).to_csv('fc1_double_bias.dat', index=False, header=False)\n",
        "pd.DataFrame(fc2_double_bias).to_csv('fc2_double_bias.dat', index=False, header=False)\n",
        "pd.DataFrame(fc3_double_bias).to_csv('fc3_double_bias.dat', index=False, header=False)\n",
        "\n",
        "files.download('fc1_double_weights.dat')\n",
        "files.download('fc1_double_bias.dat')\n",
        "\n",
        "files.download('fc2_double_weights.dat')\n",
        "files.download('fc2_double_bias.dat')\n",
        "\n",
        "files.download('fc3_double_weights.dat')\n",
        "files.download('fc3_double_bias.dat')"
      ],
      "metadata": {
        "colab": {
          "base_uri": "https://localhost:8080/",
          "height": 35
        },
        "id": "Gv4jXpgoAMB1",
        "outputId": "3dd001ca-e4c5-4c80-d5e1-dbb063fc3bb2"
      },
      "execution_count": 120,
      "outputs": [
        {
          "output_type": "stream",
          "name": "stdout",
          "text": [
            "mkdir: cannot create directory ‘save_parameters’: File exists\n"
          ]
        },
        {
          "output_type": "display_data",
          "data": {
            "text/plain": [
              "<IPython.core.display.Javascript object>"
            ],
            "application/javascript": [
              "\n",
              "    async function download(id, filename, size) {\n",
              "      if (!google.colab.kernel.accessAllowed) {\n",
              "        return;\n",
              "      }\n",
              "      const div = document.createElement('div');\n",
              "      const label = document.createElement('label');\n",
              "      label.textContent = `Downloading \"${filename}\": `;\n",
              "      div.appendChild(label);\n",
              "      const progress = document.createElement('progress');\n",
              "      progress.max = size;\n",
              "      div.appendChild(progress);\n",
              "      document.body.appendChild(div);\n",
              "\n",
              "      const buffers = [];\n",
              "      let downloaded = 0;\n",
              "\n",
              "      const channel = await google.colab.kernel.comms.open(id);\n",
              "      // Send a message to notify the kernel that we're ready.\n",
              "      channel.send({})\n",
              "\n",
              "      for await (const message of channel.messages) {\n",
              "        // Send a message to notify the kernel that we're ready.\n",
              "        channel.send({})\n",
              "        if (message.buffers) {\n",
              "          for (const buffer of message.buffers) {\n",
              "            buffers.push(buffer);\n",
              "            downloaded += buffer.byteLength;\n",
              "            progress.value = downloaded;\n",
              "          }\n",
              "        }\n",
              "      }\n",
              "      const blob = new Blob(buffers, {type: 'application/binary'});\n",
              "      const a = document.createElement('a');\n",
              "      a.href = window.URL.createObjectURL(blob);\n",
              "      a.download = filename;\n",
              "      div.appendChild(a);\n",
              "      a.click();\n",
              "      div.remove();\n",
              "    }\n",
              "  "
            ]
          },
          "metadata": {}
        },
        {
          "output_type": "display_data",
          "data": {
            "text/plain": [
              "<IPython.core.display.Javascript object>"
            ],
            "application/javascript": [
              "download(\"download_3d29cc37-a31a-4eca-a90d-51ee0f5906d3\", \"fc1_double_weights.dat\", 8534013)"
            ]
          },
          "metadata": {}
        },
        {
          "output_type": "display_data",
          "data": {
            "text/plain": [
              "<IPython.core.display.Javascript object>"
            ],
            "application/javascript": [
              "\n",
              "    async function download(id, filename, size) {\n",
              "      if (!google.colab.kernel.accessAllowed) {\n",
              "        return;\n",
              "      }\n",
              "      const div = document.createElement('div');\n",
              "      const label = document.createElement('label');\n",
              "      label.textContent = `Downloading \"${filename}\": `;\n",
              "      div.appendChild(label);\n",
              "      const progress = document.createElement('progress');\n",
              "      progress.max = size;\n",
              "      div.appendChild(progress);\n",
              "      document.body.appendChild(div);\n",
              "\n",
              "      const buffers = [];\n",
              "      let downloaded = 0;\n",
              "\n",
              "      const channel = await google.colab.kernel.comms.open(id);\n",
              "      // Send a message to notify the kernel that we're ready.\n",
              "      channel.send({})\n",
              "\n",
              "      for await (const message of channel.messages) {\n",
              "        // Send a message to notify the kernel that we're ready.\n",
              "        channel.send({})\n",
              "        if (message.buffers) {\n",
              "          for (const buffer of message.buffers) {\n",
              "            buffers.push(buffer);\n",
              "            downloaded += buffer.byteLength;\n",
              "            progress.value = downloaded;\n",
              "          }\n",
              "        }\n",
              "      }\n",
              "      const blob = new Blob(buffers, {type: 'application/binary'});\n",
              "      const a = document.createElement('a');\n",
              "      a.href = window.URL.createObjectURL(blob);\n",
              "      a.download = filename;\n",
              "      div.appendChild(a);\n",
              "      a.click();\n",
              "      div.remove();\n",
              "    }\n",
              "  "
            ]
          },
          "metadata": {}
        },
        {
          "output_type": "display_data",
          "data": {
            "text/plain": [
              "<IPython.core.display.Javascript object>"
            ],
            "application/javascript": [
              "download(\"download_f63fab92-b5c8-471b-90ee-dd425b97e843\", \"fc1_double_bias.dat\", 10818)"
            ]
          },
          "metadata": {}
        },
        {
          "output_type": "display_data",
          "data": {
            "text/plain": [
              "<IPython.core.display.Javascript object>"
            ],
            "application/javascript": [
              "\n",
              "    async function download(id, filename, size) {\n",
              "      if (!google.colab.kernel.accessAllowed) {\n",
              "        return;\n",
              "      }\n",
              "      const div = document.createElement('div');\n",
              "      const label = document.createElement('label');\n",
              "      label.textContent = `Downloading \"${filename}\": `;\n",
              "      div.appendChild(label);\n",
              "      const progress = document.createElement('progress');\n",
              "      progress.max = size;\n",
              "      div.appendChild(progress);\n",
              "      document.body.appendChild(div);\n",
              "\n",
              "      const buffers = [];\n",
              "      let downloaded = 0;\n",
              "\n",
              "      const channel = await google.colab.kernel.comms.open(id);\n",
              "      // Send a message to notify the kernel that we're ready.\n",
              "      channel.send({})\n",
              "\n",
              "      for await (const message of channel.messages) {\n",
              "        // Send a message to notify the kernel that we're ready.\n",
              "        channel.send({})\n",
              "        if (message.buffers) {\n",
              "          for (const buffer of message.buffers) {\n",
              "            buffers.push(buffer);\n",
              "            downloaded += buffer.byteLength;\n",
              "            progress.value = downloaded;\n",
              "          }\n",
              "        }\n",
              "      }\n",
              "      const blob = new Blob(buffers, {type: 'application/binary'});\n",
              "      const a = document.createElement('a');\n",
              "      a.href = window.URL.createObjectURL(blob);\n",
              "      a.download = filename;\n",
              "      div.appendChild(a);\n",
              "      a.click();\n",
              "      div.remove();\n",
              "    }\n",
              "  "
            ]
          },
          "metadata": {}
        },
        {
          "output_type": "display_data",
          "data": {
            "text/plain": [
              "<IPython.core.display.Javascript object>"
            ],
            "application/javascript": [
              "download(\"download_42a93db7-2732-40dd-9467-fb51a625346b\", \"fc2_double_weights.dat\", 5540078)"
            ]
          },
          "metadata": {}
        },
        {
          "output_type": "display_data",
          "data": {
            "text/plain": [
              "<IPython.core.display.Javascript object>"
            ],
            "application/javascript": [
              "\n",
              "    async function download(id, filename, size) {\n",
              "      if (!google.colab.kernel.accessAllowed) {\n",
              "        return;\n",
              "      }\n",
              "      const div = document.createElement('div');\n",
              "      const label = document.createElement('label');\n",
              "      label.textContent = `Downloading \"${filename}\": `;\n",
              "      div.appendChild(label);\n",
              "      const progress = document.createElement('progress');\n",
              "      progress.max = size;\n",
              "      div.appendChild(progress);\n",
              "      document.body.appendChild(div);\n",
              "\n",
              "      const buffers = [];\n",
              "      let downloaded = 0;\n",
              "\n",
              "      const channel = await google.colab.kernel.comms.open(id);\n",
              "      // Send a message to notify the kernel that we're ready.\n",
              "      channel.send({})\n",
              "\n",
              "      for await (const message of channel.messages) {\n",
              "        // Send a message to notify the kernel that we're ready.\n",
              "        channel.send({})\n",
              "        if (message.buffers) {\n",
              "          for (const buffer of message.buffers) {\n",
              "            buffers.push(buffer);\n",
              "            downloaded += buffer.byteLength;\n",
              "            progress.value = downloaded;\n",
              "          }\n",
              "        }\n",
              "      }\n",
              "      const blob = new Blob(buffers, {type: 'application/binary'});\n",
              "      const a = document.createElement('a');\n",
              "      a.href = window.URL.createObjectURL(blob);\n",
              "      a.download = filename;\n",
              "      div.appendChild(a);\n",
              "      a.click();\n",
              "      div.remove();\n",
              "    }\n",
              "  "
            ]
          },
          "metadata": {}
        },
        {
          "output_type": "display_data",
          "data": {
            "text/plain": [
              "<IPython.core.display.Javascript object>"
            ],
            "application/javascript": [
              "download(\"download_c5157980-66d0-42f6-a22b-2c6b9b296117\", \"fc2_double_bias.dat\", 10720)"
            ]
          },
          "metadata": {}
        },
        {
          "output_type": "display_data",
          "data": {
            "text/plain": [
              "<IPython.core.display.Javascript object>"
            ],
            "application/javascript": [
              "\n",
              "    async function download(id, filename, size) {\n",
              "      if (!google.colab.kernel.accessAllowed) {\n",
              "        return;\n",
              "      }\n",
              "      const div = document.createElement('div');\n",
              "      const label = document.createElement('label');\n",
              "      label.textContent = `Downloading \"${filename}\": `;\n",
              "      div.appendChild(label);\n",
              "      const progress = document.createElement('progress');\n",
              "      progress.max = size;\n",
              "      div.appendChild(progress);\n",
              "      document.body.appendChild(div);\n",
              "\n",
              "      const buffers = [];\n",
              "      let downloaded = 0;\n",
              "\n",
              "      const channel = await google.colab.kernel.comms.open(id);\n",
              "      // Send a message to notify the kernel that we're ready.\n",
              "      channel.send({})\n",
              "\n",
              "      for await (const message of channel.messages) {\n",
              "        // Send a message to notify the kernel that we're ready.\n",
              "        channel.send({})\n",
              "        if (message.buffers) {\n",
              "          for (const buffer of message.buffers) {\n",
              "            buffers.push(buffer);\n",
              "            downloaded += buffer.byteLength;\n",
              "            progress.value = downloaded;\n",
              "          }\n",
              "        }\n",
              "      }\n",
              "      const blob = new Blob(buffers, {type: 'application/binary'});\n",
              "      const a = document.createElement('a');\n",
              "      a.href = window.URL.createObjectURL(blob);\n",
              "      a.download = filename;\n",
              "      div.appendChild(a);\n",
              "      a.click();\n",
              "      div.remove();\n",
              "    }\n",
              "  "
            ]
          },
          "metadata": {}
        },
        {
          "output_type": "display_data",
          "data": {
            "text/plain": [
              "<IPython.core.display.Javascript object>"
            ],
            "application/javascript": [
              "download(\"download_152d0fa2-bcbc-4aa9-98a8-0aecdf15b5be\", \"fc3_double_weights.dat\", 106123)"
            ]
          },
          "metadata": {}
        },
        {
          "output_type": "display_data",
          "data": {
            "text/plain": [
              "<IPython.core.display.Javascript object>"
            ],
            "application/javascript": [
              "\n",
              "    async function download(id, filename, size) {\n",
              "      if (!google.colab.kernel.accessAllowed) {\n",
              "        return;\n",
              "      }\n",
              "      const div = document.createElement('div');\n",
              "      const label = document.createElement('label');\n",
              "      label.textContent = `Downloading \"${filename}\": `;\n",
              "      div.appendChild(label);\n",
              "      const progress = document.createElement('progress');\n",
              "      progress.max = size;\n",
              "      div.appendChild(progress);\n",
              "      document.body.appendChild(div);\n",
              "\n",
              "      const buffers = [];\n",
              "      let downloaded = 0;\n",
              "\n",
              "      const channel = await google.colab.kernel.comms.open(id);\n",
              "      // Send a message to notify the kernel that we're ready.\n",
              "      channel.send({})\n",
              "\n",
              "      for await (const message of channel.messages) {\n",
              "        // Send a message to notify the kernel that we're ready.\n",
              "        channel.send({})\n",
              "        if (message.buffers) {\n",
              "          for (const buffer of message.buffers) {\n",
              "            buffers.push(buffer);\n",
              "            downloaded += buffer.byteLength;\n",
              "            progress.value = downloaded;\n",
              "          }\n",
              "        }\n",
              "      }\n",
              "      const blob = new Blob(buffers, {type: 'application/binary'});\n",
              "      const a = document.createElement('a');\n",
              "      a.href = window.URL.createObjectURL(blob);\n",
              "      a.download = filename;\n",
              "      div.appendChild(a);\n",
              "      a.click();\n",
              "      div.remove();\n",
              "    }\n",
              "  "
            ]
          },
          "metadata": {}
        },
        {
          "output_type": "display_data",
          "data": {
            "text/plain": [
              "<IPython.core.display.Javascript object>"
            ],
            "application/javascript": [
              "download(\"download_da48da4f-d9bd-4267-a585-38b1456c9e6c\", \"fc3_double_bias.dat\", 201)"
            ]
          },
          "metadata": {}
        }
      ]
    },
    {
      "cell_type": "code",
      "source": [
        "# Save raw weights as dat \n",
        "\n",
        "! mkdir save_parameters\n",
        "! cd save_parameters\n",
        "fc1_weights_tmp = model.fc1.weight.detach().numpy().reshape(-1)\n",
        "fc1_weights = model.fc1.weight.detach().numpy().reshape(1, -1)\n",
        "print(fc1_weights_tmp)\n",
        "print(fc1_weights)\n",
        "pd.DataFrame(fc1_weights).to_csv('fc1_weights.dat', index=False, header=False)\n",
        "fc1_bias = model.fc1.bias.detach().numpy().reshape(1, -1)\n",
        "pd.DataFrame(fc1_bias).to_csv('fc1_bias.dat', index=False, header=False)\n",
        "\n",
        "fc2_weights = model.fc2.weight.detach().numpy().reshape(1, -1)\n",
        "pd.DataFrame(fc2_weights).to_csv('fc2_weights.dat', index=False, header=False)\n",
        "fc2_bias = model.fc2.bias.detach().numpy().reshape(1, -1)\n",
        "pd.DataFrame(fc2_bias).to_csv('fc2_bias.dat', index=False, header=False)\n",
        "\n",
        "fc3_weights = model.fc3.weight.detach().numpy().reshape(1, -1)\n",
        "pd.DataFrame(fc3_weights).to_csv('fc3_weights.dat', index=False, header=False)\n",
        "fc3_bias = model.fc3.bias.detach().numpy().reshape(1, -1)\n",
        "pd.DataFrame(fc3_bias).to_csv('fc3_bias.dat', index=False, header=False)\n",
        "\n",
        "files.download('fc1_weights.dat')\n",
        "files.download('fc1_bias.dat')\n",
        "\n",
        "files.download('fc2_weights.dat')\n",
        "files.download('fc2_bias.dat')\n",
        "\n",
        "files.download('fc3_weights.dat')\n",
        "files.download('fc3_bias.dat')"
      ],
      "metadata": {
        "colab": {
          "base_uri": "https://localhost:8080/",
          "height": 108
        },
        "id": "Dks6mAjUZlms",
        "outputId": "bdd3913a-f55c-4f33-e302-896051ca6a95"
      },
      "execution_count": 107,
      "outputs": [
        {
          "output_type": "stream",
          "name": "stdout",
          "text": [
            "mkdir: cannot create directory ‘save_parameters’: File exists\n",
            "[-0.01254923 -0.01846748 -0.00285797 ...  0.00098357  0.03090337\n",
            " -0.01098317]\n",
            "[[-0.01254923 -0.01846748 -0.00285797 ...  0.00098357  0.03090337\n",
            "  -0.01098317]]\n"
          ]
        },
        {
          "output_type": "display_data",
          "data": {
            "text/plain": [
              "<IPython.core.display.Javascript object>"
            ],
            "application/javascript": [
              "\n",
              "    async function download(id, filename, size) {\n",
              "      if (!google.colab.kernel.accessAllowed) {\n",
              "        return;\n",
              "      }\n",
              "      const div = document.createElement('div');\n",
              "      const label = document.createElement('label');\n",
              "      label.textContent = `Downloading \"${filename}\": `;\n",
              "      div.appendChild(label);\n",
              "      const progress = document.createElement('progress');\n",
              "      progress.max = size;\n",
              "      div.appendChild(progress);\n",
              "      document.body.appendChild(div);\n",
              "\n",
              "      const buffers = [];\n",
              "      let downloaded = 0;\n",
              "\n",
              "      const channel = await google.colab.kernel.comms.open(id);\n",
              "      // Send a message to notify the kernel that we're ready.\n",
              "      channel.send({})\n",
              "\n",
              "      for await (const message of channel.messages) {\n",
              "        // Send a message to notify the kernel that we're ready.\n",
              "        channel.send({})\n",
              "        if (message.buffers) {\n",
              "          for (const buffer of message.buffers) {\n",
              "            buffers.push(buffer);\n",
              "            downloaded += buffer.byteLength;\n",
              "            progress.value = downloaded;\n",
              "          }\n",
              "        }\n",
              "      }\n",
              "      const blob = new Blob(buffers, {type: 'application/binary'});\n",
              "      const a = document.createElement('a');\n",
              "      a.href = window.URL.createObjectURL(blob);\n",
              "      a.download = filename;\n",
              "      div.appendChild(a);\n",
              "      a.click();\n",
              "      div.remove();\n",
              "    }\n",
              "  "
            ]
          },
          "metadata": {}
        },
        {
          "output_type": "display_data",
          "data": {
            "text/plain": [
              "<IPython.core.display.Javascript object>"
            ],
            "application/javascript": [
              "download(\"download_94b2e2a4-4e14-430d-b764-0b9300252f4f\", \"fc1_weights.dat\", 5018238)"
            ]
          },
          "metadata": {}
        },
        {
          "output_type": "display_data",
          "data": {
            "text/plain": [
              "<IPython.core.display.Javascript object>"
            ],
            "application/javascript": [
              "\n",
              "    async function download(id, filename, size) {\n",
              "      if (!google.colab.kernel.accessAllowed) {\n",
              "        return;\n",
              "      }\n",
              "      const div = document.createElement('div');\n",
              "      const label = document.createElement('label');\n",
              "      label.textContent = `Downloading \"${filename}\": `;\n",
              "      div.appendChild(label);\n",
              "      const progress = document.createElement('progress');\n",
              "      progress.max = size;\n",
              "      div.appendChild(progress);\n",
              "      document.body.appendChild(div);\n",
              "\n",
              "      const buffers = [];\n",
              "      let downloaded = 0;\n",
              "\n",
              "      const channel = await google.colab.kernel.comms.open(id);\n",
              "      // Send a message to notify the kernel that we're ready.\n",
              "      channel.send({})\n",
              "\n",
              "      for await (const message of channel.messages) {\n",
              "        // Send a message to notify the kernel that we're ready.\n",
              "        channel.send({})\n",
              "        if (message.buffers) {\n",
              "          for (const buffer of message.buffers) {\n",
              "            buffers.push(buffer);\n",
              "            downloaded += buffer.byteLength;\n",
              "            progress.value = downloaded;\n",
              "          }\n",
              "        }\n",
              "      }\n",
              "      const blob = new Blob(buffers, {type: 'application/binary'});\n",
              "      const a = document.createElement('a');\n",
              "      a.href = window.URL.createObjectURL(blob);\n",
              "      a.download = filename;\n",
              "      div.appendChild(a);\n",
              "      a.click();\n",
              "      div.remove();\n",
              "    }\n",
              "  "
            ]
          },
          "metadata": {}
        },
        {
          "output_type": "display_data",
          "data": {
            "text/plain": [
              "<IPython.core.display.Javascript object>"
            ],
            "application/javascript": [
              "download(\"download_19c11529-c8d5-4345-9ce5-99d2aecc145c\", \"fc1_bias.dat\", 6304)"
            ]
          },
          "metadata": {}
        },
        {
          "output_type": "display_data",
          "data": {
            "text/plain": [
              "<IPython.core.display.Javascript object>"
            ],
            "application/javascript": [
              "\n",
              "    async function download(id, filename, size) {\n",
              "      if (!google.colab.kernel.accessAllowed) {\n",
              "        return;\n",
              "      }\n",
              "      const div = document.createElement('div');\n",
              "      const label = document.createElement('label');\n",
              "      label.textContent = `Downloading \"${filename}\": `;\n",
              "      div.appendChild(label);\n",
              "      const progress = document.createElement('progress');\n",
              "      progress.max = size;\n",
              "      div.appendChild(progress);\n",
              "      document.body.appendChild(div);\n",
              "\n",
              "      const buffers = [];\n",
              "      let downloaded = 0;\n",
              "\n",
              "      const channel = await google.colab.kernel.comms.open(id);\n",
              "      // Send a message to notify the kernel that we're ready.\n",
              "      channel.send({})\n",
              "\n",
              "      for await (const message of channel.messages) {\n",
              "        // Send a message to notify the kernel that we're ready.\n",
              "        channel.send({})\n",
              "        if (message.buffers) {\n",
              "          for (const buffer of message.buffers) {\n",
              "            buffers.push(buffer);\n",
              "            downloaded += buffer.byteLength;\n",
              "            progress.value = downloaded;\n",
              "          }\n",
              "        }\n",
              "      }\n",
              "      const blob = new Blob(buffers, {type: 'application/binary'});\n",
              "      const a = document.createElement('a');\n",
              "      a.href = window.URL.createObjectURL(blob);\n",
              "      a.download = filename;\n",
              "      div.appendChild(a);\n",
              "      a.click();\n",
              "      div.remove();\n",
              "    }\n",
              "  "
            ]
          },
          "metadata": {}
        },
        {
          "output_type": "display_data",
          "data": {
            "text/plain": [
              "<IPython.core.display.Javascript object>"
            ],
            "application/javascript": [
              "download(\"download_021633e6-64c0-45bf-9dce-1495d816e506\", \"fc2_weights.dat\", 3248658)"
            ]
          },
          "metadata": {}
        },
        {
          "output_type": "display_data",
          "data": {
            "text/plain": [
              "<IPython.core.display.Javascript object>"
            ],
            "application/javascript": [
              "\n",
              "    async function download(id, filename, size) {\n",
              "      if (!google.colab.kernel.accessAllowed) {\n",
              "        return;\n",
              "      }\n",
              "      const div = document.createElement('div');\n",
              "      const label = document.createElement('label');\n",
              "      label.textContent = `Downloading \"${filename}\": `;\n",
              "      div.appendChild(label);\n",
              "      const progress = document.createElement('progress');\n",
              "      progress.max = size;\n",
              "      div.appendChild(progress);\n",
              "      document.body.appendChild(div);\n",
              "\n",
              "      const buffers = [];\n",
              "      let downloaded = 0;\n",
              "\n",
              "      const channel = await google.colab.kernel.comms.open(id);\n",
              "      // Send a message to notify the kernel that we're ready.\n",
              "      channel.send({})\n",
              "\n",
              "      for await (const message of channel.messages) {\n",
              "        // Send a message to notify the kernel that we're ready.\n",
              "        channel.send({})\n",
              "        if (message.buffers) {\n",
              "          for (const buffer of message.buffers) {\n",
              "            buffers.push(buffer);\n",
              "            downloaded += buffer.byteLength;\n",
              "            progress.value = downloaded;\n",
              "          }\n",
              "        }\n",
              "      }\n",
              "      const blob = new Blob(buffers, {type: 'application/binary'});\n",
              "      const a = document.createElement('a');\n",
              "      a.href = window.URL.createObjectURL(blob);\n",
              "      a.download = filename;\n",
              "      div.appendChild(a);\n",
              "      a.click();\n",
              "      div.remove();\n",
              "    }\n",
              "  "
            ]
          },
          "metadata": {}
        },
        {
          "output_type": "display_data",
          "data": {
            "text/plain": [
              "<IPython.core.display.Javascript object>"
            ],
            "application/javascript": [
              "download(\"download_5f64ec79-d57b-465c-9953-cdec37d964ec\", \"fc2_bias.dat\", 6249)"
            ]
          },
          "metadata": {}
        },
        {
          "output_type": "display_data",
          "data": {
            "text/plain": [
              "<IPython.core.display.Javascript object>"
            ],
            "application/javascript": [
              "\n",
              "    async function download(id, filename, size) {\n",
              "      if (!google.colab.kernel.accessAllowed) {\n",
              "        return;\n",
              "      }\n",
              "      const div = document.createElement('div');\n",
              "      const label = document.createElement('label');\n",
              "      label.textContent = `Downloading \"${filename}\": `;\n",
              "      div.appendChild(label);\n",
              "      const progress = document.createElement('progress');\n",
              "      progress.max = size;\n",
              "      div.appendChild(progress);\n",
              "      document.body.appendChild(div);\n",
              "\n",
              "      const buffers = [];\n",
              "      let downloaded = 0;\n",
              "\n",
              "      const channel = await google.colab.kernel.comms.open(id);\n",
              "      // Send a message to notify the kernel that we're ready.\n",
              "      channel.send({})\n",
              "\n",
              "      for await (const message of channel.messages) {\n",
              "        // Send a message to notify the kernel that we're ready.\n",
              "        channel.send({})\n",
              "        if (message.buffers) {\n",
              "          for (const buffer of message.buffers) {\n",
              "            buffers.push(buffer);\n",
              "            downloaded += buffer.byteLength;\n",
              "            progress.value = downloaded;\n",
              "          }\n",
              "        }\n",
              "      }\n",
              "      const blob = new Blob(buffers, {type: 'application/binary'});\n",
              "      const a = document.createElement('a');\n",
              "      a.href = window.URL.createObjectURL(blob);\n",
              "      a.download = filename;\n",
              "      div.appendChild(a);\n",
              "      a.click();\n",
              "      div.remove();\n",
              "    }\n",
              "  "
            ]
          },
          "metadata": {}
        },
        {
          "output_type": "display_data",
          "data": {
            "text/plain": [
              "<IPython.core.display.Javascript object>"
            ],
            "application/javascript": [
              "download(\"download_5e37436e-3e58-4642-b26b-488c6d0bd222\", \"fc3_weights.dat\", 61336)"
            ]
          },
          "metadata": {}
        },
        {
          "output_type": "display_data",
          "data": {
            "text/plain": [
              "<IPython.core.display.Javascript object>"
            ],
            "application/javascript": [
              "\n",
              "    async function download(id, filename, size) {\n",
              "      if (!google.colab.kernel.accessAllowed) {\n",
              "        return;\n",
              "      }\n",
              "      const div = document.createElement('div');\n",
              "      const label = document.createElement('label');\n",
              "      label.textContent = `Downloading \"${filename}\": `;\n",
              "      div.appendChild(label);\n",
              "      const progress = document.createElement('progress');\n",
              "      progress.max = size;\n",
              "      div.appendChild(progress);\n",
              "      document.body.appendChild(div);\n",
              "\n",
              "      const buffers = [];\n",
              "      let downloaded = 0;\n",
              "\n",
              "      const channel = await google.colab.kernel.comms.open(id);\n",
              "      // Send a message to notify the kernel that we're ready.\n",
              "      channel.send({})\n",
              "\n",
              "      for await (const message of channel.messages) {\n",
              "        // Send a message to notify the kernel that we're ready.\n",
              "        channel.send({})\n",
              "        if (message.buffers) {\n",
              "          for (const buffer of message.buffers) {\n",
              "            buffers.push(buffer);\n",
              "            downloaded += buffer.byteLength;\n",
              "            progress.value = downloaded;\n",
              "          }\n",
              "        }\n",
              "      }\n",
              "      const blob = new Blob(buffers, {type: 'application/binary'});\n",
              "      const a = document.createElement('a');\n",
              "      a.href = window.URL.createObjectURL(blob);\n",
              "      a.download = filename;\n",
              "      div.appendChild(a);\n",
              "      a.click();\n",
              "      div.remove();\n",
              "    }\n",
              "  "
            ]
          },
          "metadata": {}
        },
        {
          "output_type": "display_data",
          "data": {
            "text/plain": [
              "<IPython.core.display.Javascript object>"
            ],
            "application/javascript": [
              "download(\"download_4c7006d9-6c89-41e9-854f-114398e3feba\", \"fc3_bias.dat\", 120)"
            ]
          },
          "metadata": {}
        }
      ]
    },
    {
      "cell_type": "code",
      "source": [
        "# Check last layer of the model -- whether automatically use an activation? no \n",
        "\n",
        "model.eval()\n",
        "\n",
        "# obtain one batch of test images\n",
        "dataiter = iter(test_loader)\n",
        "images, labels = dataiter.next()\n",
        "\n",
        "print(images[0].shape)\n",
        "print(type(images[0]))\n",
        "\n",
        "# get sample outputs\n",
        "output = model(images)\n",
        "\n",
        "print(output) # signed raw 10 float32 outputs\n",
        "print(type(output))\n",
        "\n",
        "# convert output probabilities to predicted class\n",
        "_, preds = torch.max(output, 1)\n",
        "\n",
        "print(preds) # 1 integer per image "
      ],
      "metadata": {
        "colab": {
          "base_uri": "https://localhost:8080/"
        },
        "id": "KudOCjsabDaU",
        "outputId": "b1fb9c89-c8fa-472e-a3ce-a4eead2963e0"
      },
      "execution_count": null,
      "outputs": [
        {
          "output_type": "stream",
          "name": "stdout",
          "text": [
            "torch.Size([1, 28, 28])\n",
            "<class 'torch.Tensor'>\n",
            "tensor([[-0.9649, -1.9744,  3.8855,  4.3230, -4.9707, -1.7234, -9.3007, 12.3857,\n",
            "         -1.1488,  0.7811],\n",
            "        [ 0.2260,  1.9123, 11.0967,  4.1160, -8.8477,  1.7513,  1.5163, -5.8999,\n",
            "          3.1715, -7.4341],\n",
            "        [-4.9065,  7.8308,  0.9716, -1.2039, -0.3746, -0.6875,  0.5520,  1.7607,\n",
            "          0.5007, -3.5580],\n",
            "        [10.1860, -5.0786,  2.2432, -2.0933, -3.2524, -0.7866,  2.3779,  0.9929,\n",
            "         -3.0680, -0.3101],\n",
            "        [-1.3842, -4.0468, -0.5061, -4.0829,  9.4826, -1.7701,  0.2319,  0.7957,\n",
            "         -1.1064,  3.6754],\n",
            "        [-5.8765, 10.0795,  0.2068, -0.7673, -0.0476, -2.7637, -1.6869,  3.9845,\n",
            "          0.2074, -2.2793],\n",
            "        [-5.3789, -2.8342, -2.9825, -3.4347,  9.8415,  0.8401, -1.1479,  0.6985,\n",
            "          3.8411,  2.0786],\n",
            "        [-3.9065, -1.6931,  0.1339,  3.0401,  0.9200, -0.9188, -6.6463,  3.0217,\n",
            "         -0.3911,  7.6929],\n",
            "        [-0.2563, -3.5195,  0.1763, -6.1998,  3.5397,  5.2222,  6.4006, -6.4370,\n",
            "          1.6128,  0.9120],\n",
            "        [-2.8486, -6.5610, -3.0737, -1.1213,  6.1953, -2.3458, -6.9373,  5.0563,\n",
            "          3.2701, 10.2033],\n",
            "        [12.3004, -5.5078,  3.5615, -2.7181, -5.3861,  0.3464,  1.5026, -1.7125,\n",
            "         -2.2896,  1.1718],\n",
            "        [ 0.9779, -1.5531,  0.7612, -3.4532,  1.8091,  2.0814,  9.0549, -4.7525,\n",
            "          1.7890, -5.5197],\n",
            "        [-2.8409, -5.1306, -2.9714,  0.7753,  3.8219,  1.1478, -6.4550,  2.4444,\n",
            "          1.0010, 10.0271],\n",
            "        [11.3523, -6.9348,  1.4555, -3.2792, -3.4479, -0.0559, -0.3638,  0.9645,\n",
            "         -0.9625,  2.2076],\n",
            "        [-7.9377, 11.6033, -1.0561,  2.5497, -1.1475, -1.7817, -1.5061,  1.2414,\n",
            "          1.0718, -1.5153],\n",
            "        [-2.5859,  1.1262, -1.2710,  3.7777, -3.0018,  8.3474, -1.1867, -3.7468,\n",
            "          1.2184, -1.2605],\n",
            "        [ 0.4738, -6.3575, -0.7320, -0.9444,  2.9260, -2.9598, -5.3466,  2.6025,\n",
            "          1.4620, 10.5591],\n",
            "        [ 0.7062, -2.8677,  5.0158,  4.5660, -6.1336, -1.8375, -8.7187, 12.8362,\n",
            "         -2.7473,  0.5567],\n",
            "        [-3.3521,  0.7625,  1.3343,  5.5484, -1.6288, -0.0673, -1.4456, -1.8185,\n",
            "          3.3062, -1.1719],\n",
            "        [-3.8763, -2.3256, -1.0795, -2.8677, 11.1173, -0.7741, -0.5390,  1.1194,\n",
            "         -1.9501,  2.5412]], grad_fn=<AddmmBackward0>)\n",
            "<class 'torch.Tensor'>\n",
            "tensor([7, 2, 1, 0, 4, 1, 4, 9, 6, 9, 0, 6, 9, 0, 1, 5, 9, 7, 3, 4])\n"
          ]
        }
      ]
    },
    {
      "cell_type": "code",
      "source": [
        "# Save the final layer outputs of the first 11 images\n",
        "\n",
        "saved_outputs = output.detach().numpy()[:11] \n",
        "print(saved_outputs.shape)\n",
        "\n",
        "pd.DataFrame(saved_outputs).to_csv('last_layer_outputs.dat', index=False, header=False)\n",
        "files.download('last_layer_outputs.dat')"
      ],
      "metadata": {
        "colab": {
          "base_uri": "https://localhost:8080/",
          "height": 34
        },
        "id": "Jay3UwnwLD8p",
        "outputId": "727306ee-cf75-436a-eeaa-6a4ff1606498"
      },
      "execution_count": null,
      "outputs": [
        {
          "output_type": "stream",
          "name": "stdout",
          "text": [
            "(11, 10)\n"
          ]
        },
        {
          "output_type": "display_data",
          "data": {
            "text/plain": [
              "<IPython.core.display.Javascript object>"
            ],
            "application/javascript": [
              "\n",
              "    async function download(id, filename, size) {\n",
              "      if (!google.colab.kernel.accessAllowed) {\n",
              "        return;\n",
              "      }\n",
              "      const div = document.createElement('div');\n",
              "      const label = document.createElement('label');\n",
              "      label.textContent = `Downloading \"${filename}\": `;\n",
              "      div.appendChild(label);\n",
              "      const progress = document.createElement('progress');\n",
              "      progress.max = size;\n",
              "      div.appendChild(progress);\n",
              "      document.body.appendChild(div);\n",
              "\n",
              "      const buffers = [];\n",
              "      let downloaded = 0;\n",
              "\n",
              "      const channel = await google.colab.kernel.comms.open(id);\n",
              "      // Send a message to notify the kernel that we're ready.\n",
              "      channel.send({})\n",
              "\n",
              "      for await (const message of channel.messages) {\n",
              "        // Send a message to notify the kernel that we're ready.\n",
              "        channel.send({})\n",
              "        if (message.buffers) {\n",
              "          for (const buffer of message.buffers) {\n",
              "            buffers.push(buffer);\n",
              "            downloaded += buffer.byteLength;\n",
              "            progress.value = downloaded;\n",
              "          }\n",
              "        }\n",
              "      }\n",
              "      const blob = new Blob(buffers, {type: 'application/binary'});\n",
              "      const a = document.createElement('a');\n",
              "      a.href = window.URL.createObjectURL(blob);\n",
              "      a.download = filename;\n",
              "      div.appendChild(a);\n",
              "      a.click();\n",
              "      div.remove();\n",
              "    }\n",
              "  "
            ]
          },
          "metadata": {}
        },
        {
          "output_type": "display_data",
          "data": {
            "text/plain": [
              "<IPython.core.display.Javascript object>"
            ],
            "application/javascript": [
              "download(\"download_08f8a055-8fe2-42a8-a9ed-7249dd26075e\", \"last_layer_outputs.dat\", 2099)"
            ]
          },
          "metadata": {}
        }
      ]
    },
    {
      "cell_type": "code",
      "source": [
        "print(outputs[0].shape[0])"
      ],
      "metadata": {
        "colab": {
          "base_uri": "https://localhost:8080/"
        },
        "id": "qvfEbNKAxbbm",
        "outputId": "ef341e31-5248-4a14-9f01-4cd6fb519ee2"
      },
      "execution_count": 47,
      "outputs": [
        {
          "output_type": "stream",
          "name": "stdout",
          "text": [
            "20\n"
          ]
        }
      ]
    },
    {
      "cell_type": "code",
      "source": [
        "# Prepare to save input and output of the model and prediction for hardware testing \n",
        "\n",
        "# initialize lists to monitor test accuracy\n",
        "class_correct = list(0. for i in range(10))\n",
        "class_total = list(0. for i in range(10))\n",
        "model.eval() # prep model for evaluation\n",
        "\n",
        "# obtain one batch of test images\n",
        "dataiter = iter(test_loader)\n",
        "images, labels = dataiter.next()\n",
        "\n",
        "# forward pass: compute predicted outputs by passing inputs to the model\n",
        "outputs = model(images)\n",
        "# convert raw output to predicted class\n",
        "# for i in range(outputs[0].shape[0]):\n",
        "print(outputs)\n",
        "_, preds = torch.max(outputs[6], 1) # dim = 1 = maximum in each row  \n",
        "print(preds)\n",
        "# compare predictions to true label\n",
        "\n",
        "correct = np.squeeze(preds.eq(labels.data.view_as(preds)))\n",
        "# calculate test accuracy for each object class\n",
        "\n",
        "print(correct)\n",
        "print(type(correct))\n",
        "\n",
        "for i in range(len(preds)):\n",
        "    label = labels.data[i]\n",
        "    class_correct[label] += correct[i].item()\n",
        "    class_total[label] += 1\n",
        "\n",
        "for i in range(10):\n",
        "    if class_total[i] > 0:\n",
        "        print('Test Accuracy of %5s: %2d%% (%2d/%2d)' % (\n",
        "            str(i), 100 * class_correct[i] / class_total[i],\n",
        "            np.sum(class_correct[i]), np.sum(class_total[i])))\n",
        "    else:\n",
        "        print('Test Accuracy of %5s: N/A (no training examples)' % (class_total[i]))\n",
        "print('\\nTest Accuracy (Overall): %2d%% (%2d/%2d)' % (\n",
        "    100. * np.sum(class_correct) / np.sum(class_total),\n",
        "    np.sum(class_correct), np.sum(class_total)))\n",
        "\n",
        "# prep images for display\n",
        "images = images.numpy()\n",
        "# plot the images in the batch, along with predicted and true labels\n",
        "fig = plt.figure(figsize=(25, 4))\n",
        "for idx in np.arange(20):\n",
        "    ax = fig.add_subplot(2, 20/2, idx+1, xticks=[], yticks=[])\n",
        "    ax.imshow(np.squeeze(images[idx]), cmap='gray')\n",
        "    ax.set_title(\"{} ({})\".format(str(preds[idx].item()), str(labels[idx].item())),\n",
        "                 color=(\"green\" if preds[idx]==labels[idx] else \"red\"))"
      ],
      "metadata": {
        "colab": {
          "base_uri": "https://localhost:8080/",
          "height": 1000
        },
        "id": "2WBUCciZbJ9i",
        "outputId": "c44e1182-2638-489b-a054-e362450b068d"
      },
      "execution_count": 51,
      "outputs": [
        {
          "output_type": "stream",
          "name": "stdout",
          "text": [
            "(tensor([[[[0., 0., 0.,  ..., 0., 0., 0.],\n",
            "          [0., 0., 0.,  ..., 0., 0., 0.],\n",
            "          [0., 0., 0.,  ..., 0., 0., 0.],\n",
            "          ...,\n",
            "          [0., 0., 0.,  ..., 0., 0., 0.],\n",
            "          [0., 0., 0.,  ..., 0., 0., 0.],\n",
            "          [0., 0., 0.,  ..., 0., 0., 0.]]],\n",
            "\n",
            "\n",
            "        [[[0., 0., 0.,  ..., 0., 0., 0.],\n",
            "          [0., 0., 0.,  ..., 0., 0., 0.],\n",
            "          [0., 0., 0.,  ..., 0., 0., 0.],\n",
            "          ...,\n",
            "          [0., 0., 0.,  ..., 0., 0., 0.],\n",
            "          [0., 0., 0.,  ..., 0., 0., 0.],\n",
            "          [0., 0., 0.,  ..., 0., 0., 0.]]],\n",
            "\n",
            "\n",
            "        [[[0., 0., 0.,  ..., 0., 0., 0.],\n",
            "          [0., 0., 0.,  ..., 0., 0., 0.],\n",
            "          [0., 0., 0.,  ..., 0., 0., 0.],\n",
            "          ...,\n",
            "          [0., 0., 0.,  ..., 0., 0., 0.],\n",
            "          [0., 0., 0.,  ..., 0., 0., 0.],\n",
            "          [0., 0., 0.,  ..., 0., 0., 0.]]],\n",
            "\n",
            "\n",
            "        ...,\n",
            "\n",
            "\n",
            "        [[[0., 0., 0.,  ..., 0., 0., 0.],\n",
            "          [0., 0., 0.,  ..., 0., 0., 0.],\n",
            "          [0., 0., 0.,  ..., 0., 0., 0.],\n",
            "          ...,\n",
            "          [0., 0., 0.,  ..., 0., 0., 0.],\n",
            "          [0., 0., 0.,  ..., 0., 0., 0.],\n",
            "          [0., 0., 0.,  ..., 0., 0., 0.]]],\n",
            "\n",
            "\n",
            "        [[[0., 0., 0.,  ..., 0., 0., 0.],\n",
            "          [0., 0., 0.,  ..., 0., 0., 0.],\n",
            "          [0., 0., 0.,  ..., 0., 0., 0.],\n",
            "          ...,\n",
            "          [0., 0., 0.,  ..., 0., 0., 0.],\n",
            "          [0., 0., 0.,  ..., 0., 0., 0.],\n",
            "          [0., 0., 0.,  ..., 0., 0., 0.]]],\n",
            "\n",
            "\n",
            "        [[[0., 0., 0.,  ..., 0., 0., 0.],\n",
            "          [0., 0., 0.,  ..., 0., 0., 0.],\n",
            "          [0., 0., 0.,  ..., 0., 0., 0.],\n",
            "          ...,\n",
            "          [0., 0., 0.,  ..., 0., 0., 0.],\n",
            "          [0., 0., 0.,  ..., 0., 0., 0.],\n",
            "          [0., 0., 0.,  ..., 0., 0., 0.]]]]), tensor([[0., 0., 0.,  ..., 0., 0., 0.],\n",
            "        [0., 0., 0.,  ..., 0., 0., 0.],\n",
            "        [0., 0., 0.,  ..., 0., 0., 0.],\n",
            "        ...,\n",
            "        [0., 0., 0.,  ..., 0., 0., 0.],\n",
            "        [0., 0., 0.,  ..., 0., 0., 0.],\n",
            "        [0., 0., 0.,  ..., 0., 0., 0.]]), tensor([[0.0000, 0.0079, 0.0000,  ..., 0.0000, 0.0000, 0.0000],\n",
            "        [0.1300, 0.3469, 0.0856,  ..., 0.0000, 0.3355, 0.0000],\n",
            "        [0.1007, 0.1534, 0.0000,  ..., 0.0000, 0.0000, 0.1812],\n",
            "        ...,\n",
            "        [0.0000, 0.0218, 0.0878,  ..., 0.0000, 0.0000, 0.0000],\n",
            "        [0.0000, 0.5585, 0.0000,  ..., 0.0000, 0.0000, 0.0000],\n",
            "        [0.0000, 0.0000, 0.2113,  ..., 0.0000, 0.0000, 0.0063]],\n",
            "       grad_fn=<ReluBackward0>), tensor([[0.0000, 0.0079, 0.0000,  ..., 0.0000, 0.0000, 0.0000],\n",
            "        [0.1300, 0.3469, 0.0856,  ..., 0.0000, 0.3355, 0.0000],\n",
            "        [0.1007, 0.1534, 0.0000,  ..., 0.0000, 0.0000, 0.1812],\n",
            "        ...,\n",
            "        [0.0000, 0.0218, 0.0878,  ..., 0.0000, 0.0000, 0.0000],\n",
            "        [0.0000, 0.5585, 0.0000,  ..., 0.0000, 0.0000, 0.0000],\n",
            "        [0.0000, 0.0000, 0.2113,  ..., 0.0000, 0.0000, 0.0063]],\n",
            "       grad_fn=<ReluBackward0>), tensor([[0.0000, 0.0000, 0.0000,  ..., 0.0000, 0.0182, 0.1581],\n",
            "        [0.0820, 0.0795, 0.0000,  ..., 0.0000, 0.0025, 0.1167],\n",
            "        [0.0000, 0.0371, 0.0160,  ..., 0.0000, 0.0942, 0.0790],\n",
            "        ...,\n",
            "        [0.0000, 0.0169, 0.0000,  ..., 0.0000, 0.0291, 0.1961],\n",
            "        [0.0009, 0.0327, 0.0309,  ..., 0.0000, 0.0000, 0.0304],\n",
            "        [0.0072, 0.0000, 0.0000,  ..., 0.0000, 0.0711, 0.1049]],\n",
            "       grad_fn=<ReluBackward0>), tensor([[0.0000, 0.0000, 0.0000,  ..., 0.0000, 0.0182, 0.1581],\n",
            "        [0.0820, 0.0795, 0.0000,  ..., 0.0000, 0.0025, 0.1167],\n",
            "        [0.0000, 0.0371, 0.0160,  ..., 0.0000, 0.0942, 0.0790],\n",
            "        ...,\n",
            "        [0.0000, 0.0169, 0.0000,  ..., 0.0000, 0.0291, 0.1961],\n",
            "        [0.0009, 0.0327, 0.0309,  ..., 0.0000, 0.0000, 0.0304],\n",
            "        [0.0072, 0.0000, 0.0000,  ..., 0.0000, 0.0711, 0.1049]],\n",
            "       grad_fn=<ReluBackward0>), tensor([[-0.0102,  0.0942, -0.0155, -0.0117, -0.0513,  0.0208, -0.0022, -0.0053,\n",
            "         -0.0398,  0.0604],\n",
            "        [-0.0289,  0.0357, -0.0027, -0.0086, -0.0298, -0.0197,  0.0149,  0.0158,\n",
            "         -0.0686,  0.0260],\n",
            "        [-0.0093,  0.0657, -0.0042, -0.0102, -0.0382, -0.0163,  0.0038, -0.0215,\n",
            "         -0.0258,  0.0452],\n",
            "        [-0.0295,  0.0552, -0.0604, -0.0408, -0.0249, -0.0132, -0.0150,  0.0241,\n",
            "         -0.0357,  0.0225],\n",
            "        [ 0.0052,  0.0356, -0.0386, -0.0023, -0.0697, -0.0137, -0.0055, -0.0049,\n",
            "         -0.0145,  0.0214],\n",
            "        [-0.0024,  0.0627, -0.0144, -0.0250, -0.0449, -0.0255, -0.0021, -0.0154,\n",
            "         -0.0372,  0.0528],\n",
            "        [ 0.0098,  0.0089, -0.0165, -0.0115, -0.0923,  0.0150,  0.0312, -0.0172,\n",
            "         -0.0565,  0.0451],\n",
            "        [-0.0170,  0.0265, -0.0210, -0.0325, -0.0735,  0.0182, -0.0143, -0.0309,\n",
            "         -0.0332,  0.0516],\n",
            "        [-0.0497,  0.0261, -0.0203, -0.0237, -0.0787,  0.0007,  0.0387, -0.0099,\n",
            "          0.0144,  0.0518],\n",
            "        [ 0.0317,  0.0712, -0.0363, -0.0368, -0.0970,  0.0258, -0.0126, -0.0340,\n",
            "         -0.0253,  0.0466],\n",
            "        [-0.0041,  0.0260, -0.0213, -0.0328, -0.0346,  0.0264,  0.0377,  0.0178,\n",
            "         -0.0394,  0.0130],\n",
            "        [-0.0051,  0.0200, -0.0342, -0.0140, -0.0150, -0.0151,  0.0043, -0.0193,\n",
            "         -0.0474, -0.0031],\n",
            "        [-0.0133,  0.0499,  0.0012, -0.0406, -0.0839,  0.0143, -0.0095, -0.0351,\n",
            "         -0.0051,  0.0606],\n",
            "        [-0.0301,  0.0489, -0.0121, -0.0127, -0.0498, -0.0052,  0.0055,  0.0076,\n",
            "         -0.0549,  0.0140],\n",
            "        [-0.0225,  0.0454, -0.0088, -0.0068, -0.0232, -0.0206,  0.0157, -0.0027,\n",
            "         -0.0280,  0.0232],\n",
            "        [-0.0232,  0.0216, -0.0463,  0.0088, -0.0586,  0.0175,  0.0113, -0.0169,\n",
            "         -0.0436,  0.0620],\n",
            "        [-0.0031,  0.0553, -0.0239,  0.0056, -0.1035,  0.0052, -0.0090, -0.0364,\n",
            "          0.0108,  0.0315],\n",
            "        [-0.0075,  0.0941, -0.0236, -0.0125, -0.0456,  0.0084, -0.0284,  0.0222,\n",
            "         -0.0719,  0.0579],\n",
            "        [-0.0335,  0.0246, -0.0055,  0.0022, -0.0981,  0.0063,  0.0313,  0.0112,\n",
            "         -0.0682,  0.0664],\n",
            "        [ 0.0063,  0.0466, -0.0140,  0.0008, -0.0574,  0.0094,  0.0182, -0.0381,\n",
            "         -0.0078,  0.0394]], grad_fn=<AddmmBackward0>))\n",
            "tensor([1, 1, 1, 1, 1, 1, 9, 9, 9, 1, 6, 1, 9, 1, 1, 9, 1, 1, 9, 1])\n",
            "tensor([False, False,  True, False, False,  True, False,  True, False, False,\n",
            "        False, False,  True, False,  True, False, False, False, False, False])\n",
            "<class 'torch.Tensor'>\n",
            "Test Accuracy of     0:  0% ( 0/ 3)\n",
            "Test Accuracy of     1: 100% ( 3/ 3)\n",
            "Test Accuracy of     2:  0% ( 0/ 1)\n",
            "Test Accuracy of     3:  0% ( 0/ 1)\n",
            "Test Accuracy of     4:  0% ( 0/ 3)\n",
            "Test Accuracy of     5:  0% ( 0/ 2)\n",
            "Test Accuracy of     6:  0% ( 0/ 1)\n",
            "Test Accuracy of     7:  0% ( 0/ 2)\n",
            "Test Accuracy of   0.0: N/A (no training examples)\n",
            "Test Accuracy of     9: 50% ( 2/ 4)\n",
            "\n",
            "Test Accuracy (Overall): 25% ( 5/20)\n"
          ]
        },
        {
          "output_type": "display_data",
          "data": {
            "text/plain": [
              "<Figure size 1800x288 with 20 Axes>"
            ],
            "image/png": "[encoded data removed]"
          },
          "metadata": {}
        }
      ]
    },
    {
      "cell_type": "code",
      "source": [
        "# Save input and output of the model and prediction for hardware testing \n",
        "\n",
        "import pandas as pd\n",
        "from google.colab import files\n",
        "\n",
        "# 10 correct predictions and 1 wrong prediction \n",
        "! mkdir test_images\n",
        "! cd test_images\n",
        "\n",
        "for i in range(11):\n",
        "  print(\"{}: Correct prediction? [{}] (label: {}, predicted: {})\".format(i, str(correct[i].item()), str(labels[i].item()), str(preds[i].item())))\n",
        "  img = images[i].squeeze().reshape(1, -1)\n",
        "  pd.DataFrame(img).to_csv('test_img{}.dat'.format(i), index=False, header=False)\n",
        "  files.download('test_img{}.dat'.format(i))"
      ],
      "metadata": {
        "colab": {
          "base_uri": "https://localhost:8080/",
          "height": 230
        },
        "id": "jfWukW-vfJ4i",
        "outputId": "9e592f3a-f272-4536-f343-38124d994d25"
      },
      "execution_count": null,
      "outputs": [
        {
          "output_type": "stream",
          "name": "stdout",
          "text": [
            "mkdir: cannot create directory ‘test_images’: File exists\n",
            "0: Correct prediction? [True] (label: 4, predicted: 7)\n"
          ]
        },
        {
          "output_type": "display_data",
          "data": {
            "text/plain": [
              "<IPython.core.display.Javascript object>"
            ],
            "application/javascript": [
              "\n",
              "    async function download(id, filename, size) {\n",
              "      if (!google.colab.kernel.accessAllowed) {\n",
              "        return;\n",
              "      }\n",
              "      const div = document.createElement('div');\n",
              "      const label = document.createElement('label');\n",
              "      label.textContent = `Downloading \"${filename}\": `;\n",
              "      div.appendChild(label);\n",
              "      const progress = document.createElement('progress');\n",
              "      progress.max = size;\n",
              "      div.appendChild(progress);\n",
              "      document.body.appendChild(div);\n",
              "\n",
              "      const buffers = [];\n",
              "      let downloaded = 0;\n",
              "\n",
              "      const channel = await google.colab.kernel.comms.open(id);\n",
              "      // Send a message to notify the kernel that we're ready.\n",
              "      channel.send({})\n",
              "\n",
              "      for await (const message of channel.messages) {\n",
              "        // Send a message to notify the kernel that we're ready.\n",
              "        channel.send({})\n",
              "        if (message.buffers) {\n",
              "          for (const buffer of message.buffers) {\n",
              "            buffers.push(buffer);\n",
              "            downloaded += buffer.byteLength;\n",
              "            progress.value = downloaded;\n",
              "          }\n",
              "        }\n",
              "      }\n",
              "      const blob = new Blob(buffers, {type: 'application/binary'});\n",
              "      const a = document.createElement('a');\n",
              "      a.href = window.URL.createObjectURL(blob);\n",
              "      a.download = filename;\n",
              "      div.appendChild(a);\n",
              "      a.click();\n",
              "      div.remove();\n",
              "    }\n",
              "  "
            ]
          },
          "metadata": {}
        },
        {
          "output_type": "display_data",
          "data": {
            "text/plain": [
              "<IPython.core.display.Javascript object>"
            ],
            "application/javascript": [
              "download(\"download_574ce0c2-7969-4d4b-a7e1-6ba97d3bf6a6\", \"test_img0.dat\", 4202)"
            ]
          },
          "metadata": {}
        },
        {
          "output_type": "stream",
          "name": "stdout",
          "text": [
            "1: Correct prediction? [True] (label: 0, predicted: 2)\n"
          ]
        },
        {
          "output_type": "display_data",
          "data": {
            "text/plain": [
              "<IPython.core.display.Javascript object>"
            ],
            "application/javascript": [
              "\n",
              "    async function download(id, filename, size) {\n",
              "      if (!google.colab.kernel.accessAllowed) {\n",
              "        return;\n",
              "      }\n",
              "      const div = document.createElement('div');\n",
              "      const label = document.createElement('label');\n",
              "      label.textContent = `Downloading \"${filename}\": `;\n",
              "      div.appendChild(label);\n",
              "      const progress = document.createElement('progress');\n",
              "      progress.max = size;\n",
              "      div.appendChild(progress);\n",
              "      document.body.appendChild(div);\n",
              "\n",
              "      const buffers = [];\n",
              "      let downloaded = 0;\n",
              "\n",
              "      const channel = await google.colab.kernel.comms.open(id);\n",
              "      // Send a message to notify the kernel that we're ready.\n",
              "      channel.send({})\n",
              "\n",
              "      for await (const message of channel.messages) {\n",
              "        // Send a message to notify the kernel that we're ready.\n",
              "        channel.send({})\n",
              "        if (message.buffers) {\n",
              "          for (const buffer of message.buffers) {\n",
              "            buffers.push(buffer);\n",
              "            downloaded += buffer.byteLength;\n",
              "            progress.value = downloaded;\n",
              "          }\n",
              "        }\n",
              "      }\n",
              "      const blob = new Blob(buffers, {type: 'application/binary'});\n",
              "      const a = document.createElement('a');\n",
              "      a.href = window.URL.createObjectURL(blob);\n",
              "      a.download = filename;\n",
              "      div.appendChild(a);\n",
              "      a.click();\n",
              "      div.remove();\n",
              "    }\n",
              "  "
            ]
          },
          "metadata": {}
        },
        {
          "output_type": "display_data",
          "data": {
            "text/plain": [
              "<IPython.core.display.Javascript object>"
            ],
            "application/javascript": [
              "download(\"download_b20c09a3-ea78-45e7-9a84-a0ead37b43f2\", \"test_img1.dat\", 4267)"
            ]
          },
          "metadata": {}
        },
        {
          "output_type": "stream",
          "name": "stdout",
          "text": [
            "2: Correct prediction? [True] (label: 4, predicted: 1)\n"
          ]
        },
        {
          "output_type": "display_data",
          "data": {
            "text/plain": [
              "<IPython.core.display.Javascript object>"
            ],
            "application/javascript": [
              "\n",
              "    async function download(id, filename, size) {\n",
              "      if (!google.colab.kernel.accessAllowed) {\n",
              "        return;\n",
              "      }\n",
              "      const div = document.createElement('div');\n",
              "      const label = document.createElement('label');\n",
              "      label.textContent = `Downloading \"${filename}\": `;\n",
              "      div.appendChild(label);\n",
              "      const progress = document.createElement('progress');\n",
              "      progress.max = size;\n",
              "      div.appendChild(progress);\n",
              "      document.body.appendChild(div);\n",
              "\n",
              "      const buffers = [];\n",
              "      let downloaded = 0;\n",
              "\n",
              "      const channel = await google.colab.kernel.comms.open(id);\n",
              "      // Send a message to notify the kernel that we're ready.\n",
              "      channel.send({})\n",
              "\n",
              "      for await (const message of channel.messages) {\n",
              "        // Send a message to notify the kernel that we're ready.\n",
              "        channel.send({})\n",
              "        if (message.buffers) {\n",
              "          for (const buffer of message.buffers) {\n",
              "            buffers.push(buffer);\n",
              "            downloaded += buffer.byteLength;\n",
              "            progress.value = downloaded;\n",
              "          }\n",
              "        }\n",
              "      }\n",
              "      const blob = new Blob(buffers, {type: 'application/binary'});\n",
              "      const a = document.createElement('a');\n",
              "      a.href = window.URL.createObjectURL(blob);\n",
              "      a.download = filename;\n",
              "      div.appendChild(a);\n",
              "      a.click();\n",
              "      div.remove();\n",
              "    }\n",
              "  "
            ]
          },
          "metadata": {}
        },
        {
          "output_type": "display_data",
          "data": {
            "text/plain": [
              "<IPython.core.display.Javascript object>"
            ],
            "application/javascript": [
              "download(\"download_eb40bc7a-f42e-4c85-aee2-ef710c9eced5\", \"test_img2.dat\", 4035)"
            ]
          },
          "metadata": {}
        },
        {
          "output_type": "stream",
          "name": "stdout",
          "text": [
            "3: Correct prediction? [True] (label: 6, predicted: 0)\n"
          ]
        },
        {
          "output_type": "display_data",
          "data": {
            "text/plain": [
              "<IPython.core.display.Javascript object>"
            ],
            "application/javascript": [
              "\n",
              "    async function download(id, filename, size) {\n",
              "      if (!google.colab.kernel.accessAllowed) {\n",
              "        return;\n",
              "      }\n",
              "      const div = document.createElement('div');\n",
              "      const label = document.createElement('label');\n",
              "      label.textContent = `Downloading \"${filename}\": `;\n",
              "      div.appendChild(label);\n",
              "      const progress = document.createElement('progress');\n",
              "      progress.max = size;\n",
              "      div.appendChild(progress);\n",
              "      document.body.appendChild(div);\n",
              "\n",
              "      const buffers = [];\n",
              "      let downloaded = 0;\n",
              "\n",
              "      const channel = await google.colab.kernel.comms.open(id);\n",
              "      // Send a message to notify the kernel that we're ready.\n",
              "      channel.send({})\n",
              "\n",
              "      for await (const message of channel.messages) {\n",
              "        // Send a message to notify the kernel that we're ready.\n",
              "        channel.send({})\n",
              "        if (message.buffers) {\n",
              "          for (const buffer of message.buffers) {\n",
              "            buffers.push(buffer);\n",
              "            downloaded += buffer.byteLength;\n",
              "            progress.value = downloaded;\n",
              "          }\n",
              "        }\n",
              "      }\n",
              "      const blob = new Blob(buffers, {type: 'application/binary'});\n",
              "      const a = document.createElement('a');\n",
              "      a.href = window.URL.createObjectURL(blob);\n",
              "      a.download = filename;\n",
              "      div.appendChild(a);\n",
              "      a.click();\n",
              "      div.remove();\n",
              "    }\n",
              "  "
            ]
          },
          "metadata": {}
        },
        {
          "output_type": "display_data",
          "data": {
            "text/plain": [
              "<IPython.core.display.Javascript object>"
            ],
            "application/javascript": [
              "download(\"download_099f27f5-80d1-4264-9302-8be0dda21af6\", \"test_img3.dat\", 4220)"
            ]
          },
          "metadata": {}
        },
        {
          "output_type": "stream",
          "name": "stdout",
          "text": [
            "4: Correct prediction? [True] (label: 5, predicted: 4)\n"
          ]
        },
        {
          "output_type": "display_data",
          "data": {
            "text/plain": [
              "<IPython.core.display.Javascript object>"
            ],
            "application/javascript": [
              "\n",
              "    async function download(id, filename, size) {\n",
              "      if (!google.colab.kernel.accessAllowed) {\n",
              "        return;\n",
              "      }\n",
              "      const div = document.createElement('div');\n",
              "      const label = document.createElement('label');\n",
              "      label.textContent = `Downloading \"${filename}\": `;\n",
              "      div.appendChild(label);\n",
              "      const progress = document.createElement('progress');\n",
              "      progress.max = size;\n",
              "      div.appendChild(progress);\n",
              "      document.body.appendChild(div);\n",
              "\n",
              "      const buffers = [];\n",
              "      let downloaded = 0;\n",
              "\n",
              "      const channel = await google.colab.kernel.comms.open(id);\n",
              "      // Send a message to notify the kernel that we're ready.\n",
              "      channel.send({})\n",
              "\n",
              "      for await (const message of channel.messages) {\n",
              "        // Send a message to notify the kernel that we're ready.\n",
              "        channel.send({})\n",
              "        if (message.buffers) {\n",
              "          for (const buffer of message.buffers) {\n",
              "            buffers.push(buffer);\n",
              "            downloaded += buffer.byteLength;\n",
              "            progress.value = downloaded;\n",
              "          }\n",
              "        }\n",
              "      }\n",
              "      const blob = new Blob(buffers, {type: 'application/binary'});\n",
              "      const a = document.createElement('a');\n",
              "      a.href = window.URL.createObjectURL(blob);\n",
              "      a.download = filename;\n",
              "      div.appendChild(a);\n",
              "      a.click();\n",
              "      div.remove();\n",
              "    }\n",
              "  "
            ]
          },
          "metadata": {}
        },
        {
          "output_type": "display_data",
          "data": {
            "text/plain": [
              "<IPython.core.display.Javascript object>"
            ],
            "application/javascript": [
              "download(\"download_a38cfe53-ca1f-4038-9b4a-d8f4ec58899c\", \"test_img4.dat\", 3881)"
            ]
          },
          "metadata": {}
        },
        {
          "output_type": "stream",
          "name": "stdout",
          "text": [
            "5: Correct prediction? [True] (label: 4, predicted: 1)\n"
          ]
        },
        {
          "output_type": "display_data",
          "data": {
            "text/plain": [
              "<IPython.core.display.Javascript object>"
            ],
            "application/javascript": [
              "\n",
              "    async function download(id, filename, size) {\n",
              "      if (!google.colab.kernel.accessAllowed) {\n",
              "        return;\n",
              "      }\n",
              "      const div = document.createElement('div');\n",
              "      const label = document.createElement('label');\n",
              "      label.textContent = `Downloading \"${filename}\": `;\n",
              "      div.appendChild(label);\n",
              "      const progress = document.createElement('progress');\n",
              "      progress.max = size;\n",
              "      div.appendChild(progress);\n",
              "      document.body.appendChild(div);\n",
              "\n",
              "      const buffers = [];\n",
              "      let downloaded = 0;\n",
              "\n",
              "      const channel = await google.colab.kernel.comms.open(id);\n",
              "      // Send a message to notify the kernel that we're ready.\n",
              "      channel.send({})\n",
              "\n",
              "      for await (const message of channel.messages) {\n",
              "        // Send a message to notify the kernel that we're ready.\n",
              "        channel.send({})\n",
              "        if (message.buffers) {\n",
              "          for (const buffer of message.buffers) {\n",
              "            buffers.push(buffer);\n",
              "            downloaded += buffer.byteLength;\n",
              "            progress.value = downloaded;\n",
              "          }\n",
              "        }\n",
              "      }\n",
              "      const blob = new Blob(buffers, {type: 'application/binary'});\n",
              "      const a = document.createElement('a');\n",
              "      a.href = window.URL.createObjectURL(blob);\n",
              "      a.download = filename;\n",
              "      div.appendChild(a);\n",
              "      a.click();\n",
              "      div.remove();\n",
              "    }\n",
              "  "
            ]
          },
          "metadata": {}
        },
        {
          "output_type": "display_data",
          "data": {
            "text/plain": [
              "<IPython.core.display.Javascript object>"
            ],
            "application/javascript": [
              "download(\"download_31926c58-5910-4e9e-a88e-80e21e44a44a\", \"test_img5.dat\", 3856)"
            ]
          },
          "metadata": {}
        },
        {
          "output_type": "stream",
          "name": "stdout",
          "text": [
            "6: Correct prediction? [True] (label: 0, predicted: 4)\n"
          ]
        },
        {
          "output_type": "display_data",
          "data": {
            "text/plain": [
              "<IPython.core.display.Javascript object>"
            ],
            "application/javascript": [
              "\n",
              "    async function download(id, filename, size) {\n",
              "      if (!google.colab.kernel.accessAllowed) {\n",
              "        return;\n",
              "      }\n",
              "      const div = document.createElement('div');\n",
              "      const label = document.createElement('label');\n",
              "      label.textContent = `Downloading \"${filename}\": `;\n",
              "      div.appendChild(label);\n",
              "      const progress = document.createElement('progress');\n",
              "      progress.max = size;\n",
              "      div.appendChild(progress);\n",
              "      document.body.appendChild(div);\n",
              "\n",
              "      const buffers = [];\n",
              "      let downloaded = 0;\n",
              "\n",
              "      const channel = await google.colab.kernel.comms.open(id);\n",
              "      // Send a message to notify the kernel that we're ready.\n",
              "      channel.send({})\n",
              "\n",
              "      for await (const message of channel.messages) {\n",
              "        // Send a message to notify the kernel that we're ready.\n",
              "        channel.send({})\n",
              "        if (message.buffers) {\n",
              "          for (const buffer of message.buffers) {\n",
              "            buffers.push(buffer);\n",
              "            downloaded += buffer.byteLength;\n",
              "            progress.value = downloaded;\n",
              "          }\n",
              "        }\n",
              "      }\n",
              "      const blob = new Blob(buffers, {type: 'application/binary'});\n",
              "      const a = document.createElement('a');\n",
              "      a.href = window.URL.createObjectURL(blob);\n",
              "      a.download = filename;\n",
              "      div.appendChild(a);\n",
              "      a.click();\n",
              "      div.remove();\n",
              "    }\n",
              "  "
            ]
          },
          "metadata": {}
        },
        {
          "output_type": "display_data",
          "data": {
            "text/plain": [
              "<IPython.core.display.Javascript object>"
            ],
            "application/javascript": [
              "download(\"download_048f79ab-911a-4e2a-b044-8bcebf5ca5cc\", \"test_img6.dat\", 4466)"
            ]
          },
          "metadata": {}
        },
        {
          "output_type": "stream",
          "name": "stdout",
          "text": [
            "7: Correct prediction? [True] (label: 8, predicted: 9)\n"
          ]
        },
        {
          "output_type": "display_data",
          "data": {
            "text/plain": [
              "<IPython.core.display.Javascript object>"
            ],
            "application/javascript": [
              "\n",
              "    async function download(id, filename, size) {\n",
              "      if (!google.colab.kernel.accessAllowed) {\n",
              "        return;\n",
              "      }\n",
              "      const div = document.createElement('div');\n",
              "      const label = document.createElement('label');\n",
              "      label.textContent = `Downloading \"${filename}\": `;\n",
              "      div.appendChild(label);\n",
              "      const progress = document.createElement('progress');\n",
              "      progress.max = size;\n",
              "      div.appendChild(progress);\n",
              "      document.body.appendChild(div);\n",
              "\n",
              "      const buffers = [];\n",
              "      let downloaded = 0;\n",
              "\n",
              "      const channel = await google.colab.kernel.comms.open(id);\n",
              "      // Send a message to notify the kernel that we're ready.\n",
              "      channel.send({})\n",
              "\n",
              "      for await (const message of channel.messages) {\n",
              "        // Send a message to notify the kernel that we're ready.\n",
              "        channel.send({})\n",
              "        if (message.buffers) {\n",
              "          for (const buffer of message.buffers) {\n",
              "            buffers.push(buffer);\n",
              "            downloaded += buffer.byteLength;\n",
              "            progress.value = downloaded;\n",
              "          }\n",
              "        }\n",
              "      }\n",
              "      const blob = new Blob(buffers, {type: 'application/binary'});\n",
              "      const a = document.createElement('a');\n",
              "      a.href = window.URL.createObjectURL(blob);\n",
              "      a.download = filename;\n",
              "      div.appendChild(a);\n",
              "      a.click();\n",
              "      div.remove();\n",
              "    }\n",
              "  "
            ]
          },
          "metadata": {}
        },
        {
          "output_type": "display_data",
          "data": {
            "text/plain": [
              "<IPython.core.display.Javascript object>"
            ],
            "application/javascript": [
              "download(\"download_cb5fad8e-aa9d-406f-8066-117c88a29355\", \"test_img7.dat\", 4445)"
            ]
          },
          "metadata": {}
        },
        {
          "output_type": "stream",
          "name": "stdout",
          "text": [
            "8: Correct prediction? [False] (label: 5, predicted: 6)\n"
          ]
        },
        {
          "output_type": "display_data",
          "data": {
            "text/plain": [
              "<IPython.core.display.Javascript object>"
            ],
            "application/javascript": [
              "\n",
              "    async function download(id, filename, size) {\n",
              "      if (!google.colab.kernel.accessAllowed) {\n",
              "        return;\n",
              "      }\n",
              "      const div = document.createElement('div');\n",
              "      const label = document.createElement('label');\n",
              "      label.textContent = `Downloading \"${filename}\": `;\n",
              "      div.appendChild(label);\n",
              "      const progress = document.createElement('progress');\n",
              "      progress.max = size;\n",
              "      div.appendChild(progress);\n",
              "      document.body.appendChild(div);\n",
              "\n",
              "      const buffers = [];\n",
              "      let downloaded = 0;\n",
              "\n",
              "      const channel = await google.colab.kernel.comms.open(id);\n",
              "      // Send a message to notify the kernel that we're ready.\n",
              "      channel.send({})\n",
              "\n",
              "      for await (const message of channel.messages) {\n",
              "        // Send a message to notify the kernel that we're ready.\n",
              "        channel.send({})\n",
              "        if (message.buffers) {\n",
              "          for (const buffer of message.buffers) {\n",
              "            buffers.push(buffer);\n",
              "            downloaded += buffer.byteLength;\n",
              "            progress.value = downloaded;\n",
              "          }\n",
              "        }\n",
              "      }\n",
              "      const blob = new Blob(buffers, {type: 'application/binary'});\n",
              "      const a = document.createElement('a');\n",
              "      a.href = window.URL.createObjectURL(blob);\n",
              "      a.download = filename;\n",
              "      div.appendChild(a);\n",
              "      a.click();\n",
              "      div.remove();\n",
              "    }\n",
              "  "
            ]
          },
          "metadata": {}
        },
        {
          "output_type": "display_data",
          "data": {
            "text/plain": [
              "<IPython.core.display.Javascript object>"
            ],
            "application/javascript": [
              "download(\"download_b3189e3b-398c-4339-bde9-c8c01e2786b2\", \"test_img8.dat\", 4750)"
            ]
          },
          "metadata": {}
        },
        {
          "output_type": "stream",
          "name": "stdout",
          "text": [
            "9: Correct prediction? [True] (label: 8, predicted: 9)\n"
          ]
        },
        {
          "output_type": "display_data",
          "data": {
            "text/plain": [
              "<IPython.core.display.Javascript object>"
            ],
            "application/javascript": [
              "\n",
              "    async function download(id, filename, size) {\n",
              "      if (!google.colab.kernel.accessAllowed) {\n",
              "        return;\n",
              "      }\n",
              "      const div = document.createElement('div');\n",
              "      const label = document.createElement('label');\n",
              "      label.textContent = `Downloading \"${filename}\": `;\n",
              "      div.appendChild(label);\n",
              "      const progress = document.createElement('progress');\n",
              "      progress.max = size;\n",
              "      div.appendChild(progress);\n",
              "      document.body.appendChild(div);\n",
              "\n",
              "      const buffers = [];\n",
              "      let downloaded = 0;\n",
              "\n",
              "      const channel = await google.colab.kernel.comms.open(id);\n",
              "      // Send a message to notify the kernel that we're ready.\n",
              "      channel.send({})\n",
              "\n",
              "      for await (const message of channel.messages) {\n",
              "        // Send a message to notify the kernel that we're ready.\n",
              "        channel.send({})\n",
              "        if (message.buffers) {\n",
              "          for (const buffer of message.buffers) {\n",
              "            buffers.push(buffer);\n",
              "            downloaded += buffer.byteLength;\n",
              "            progress.value = downloaded;\n",
              "          }\n",
              "        }\n",
              "      }\n",
              "      const blob = new Blob(buffers, {type: 'application/binary'});\n",
              "      const a = document.createElement('a');\n",
              "      a.href = window.URL.createObjectURL(blob);\n",
              "      a.download = filename;\n",
              "      div.appendChild(a);\n",
              "      a.click();\n",
              "      div.remove();\n",
              "    }\n",
              "  "
            ]
          },
          "metadata": {}
        },
        {
          "output_type": "display_data",
          "data": {
            "text/plain": [
              "<IPython.core.display.Javascript object>"
            ],
            "application/javascript": [
              "download(\"download_5bbd5447-cc99-4220-852f-bf2a8eec5a72\", \"test_img9.dat\", 4218)"
            ]
          },
          "metadata": {}
        },
        {
          "output_type": "stream",
          "name": "stdout",
          "text": [
            "10: Correct prediction? [True] (label: 6, predicted: 0)\n"
          ]
        },
        {
          "output_type": "display_data",
          "data": {
            "text/plain": [
              "<IPython.core.display.Javascript object>"
            ],
            "application/javascript": [
              "\n",
              "    async function download(id, filename, size) {\n",
              "      if (!google.colab.kernel.accessAllowed) {\n",
              "        return;\n",
              "      }\n",
              "      const div = document.createElement('div');\n",
              "      const label = document.createElement('label');\n",
              "      label.textContent = `Downloading \"${filename}\": `;\n",
              "      div.appendChild(label);\n",
              "      const progress = document.createElement('progress');\n",
              "      progress.max = size;\n",
              "      div.appendChild(progress);\n",
              "      document.body.appendChild(div);\n",
              "\n",
              "      const buffers = [];\n",
              "      let downloaded = 0;\n",
              "\n",
              "      const channel = await google.colab.kernel.comms.open(id);\n",
              "      // Send a message to notify the kernel that we're ready.\n",
              "      channel.send({})\n",
              "\n",
              "      for await (const message of channel.messages) {\n",
              "        // Send a message to notify the kernel that we're ready.\n",
              "        channel.send({})\n",
              "        if (message.buffers) {\n",
              "          for (const buffer of message.buffers) {\n",
              "            buffers.push(buffer);\n",
              "            downloaded += buffer.byteLength;\n",
              "            progress.value = downloaded;\n",
              "          }\n",
              "        }\n",
              "      }\n",
              "      const blob = new Blob(buffers, {type: 'application/binary'});\n",
              "      const a = document.createElement('a');\n",
              "      a.href = window.URL.createObjectURL(blob);\n",
              "      a.download = filename;\n",
              "      div.appendChild(a);\n",
              "      a.click();\n",
              "      div.remove();\n",
              "    }\n",
              "  "
            ]
          },
          "metadata": {}
        },
        {
          "output_type": "display_data",
          "data": {
            "text/plain": [
              "<IPython.core.display.Javascript object>"
            ],
            "application/javascript": [
              "download(\"download_a303fa92-ddb0-452f-a348-bdbef5e86930\", \"test_img10.dat\", 4114)"
            ]
          },
          "metadata": {}
        }
      ]
    },
    {
      "cell_type": "code",
      "source": [
        "# list(model.fc1.parameters())"
      ],
      "metadata": {
        "id": "TgDbt8FWY-IP"
      },
      "execution_count": null,
      "outputs": []
    },
    {
      "cell_type": "code",
      "source": [
        "# Test loss and accuracy\n",
        "\n",
        "# initialize lists to monitor test loss and accuracy\n",
        "test_loss = 0.0\n",
        "class_correct = list(0. for i in range(10))\n",
        "class_total = list(0. for i in range(10))\n",
        "model.eval() # prep model for evaluation\n",
        "for data, target in test_loader:\n",
        "    # forward pass: compute predicted outputs by passing inputs to the model\n",
        "    output = model(data)\n",
        "    # calculate the loss\n",
        "    loss = criterion(output, target)\n",
        "    # update test loss \n",
        "    test_loss += loss.item()*data.size(0)\n",
        "    # convert output probabilities to predicted class\n",
        "    _, pred = torch.max(output, 1)\n",
        "    # compare predictions to true label\n",
        "    correct = np.squeeze(pred.eq(target.data.view_as(pred)))\n",
        "    # calculate test accuracy for each object class\n",
        "    for i in range(len(target)):\n",
        "        label = target.data[i]\n",
        "        class_correct[label] += correct[i].item()\n",
        "        class_total[label] += 1\n",
        "# calculate and print avg test loss\n",
        "test_loss = test_loss/len(test_loader.sampler)\n",
        "print('Test Loss: {:.6f}\\n'.format(test_loss))\n",
        "for i in range(10):\n",
        "    if class_total[i] > 0:\n",
        "        print('Test Accuracy of %5s: %2d%% (%2d/%2d)' % (\n",
        "            str(i), 100 * class_correct[i] / class_total[i],\n",
        "            np.sum(class_correct[i]), np.sum(class_total[i])))\n",
        "    else:\n",
        "        print('Test Accuracy of %5s: N/A (no training examples)' % (classes[i]))\n",
        "print('\\nTest Accuracy (Overall): %2d%% (%2d/%2d)' % (\n",
        "    100. * np.sum(class_correct) / np.sum(class_total),\n",
        "    np.sum(class_correct), np.sum(class_total)))"
      ],
      "metadata": {
        "colab": {
          "base_uri": "https://localhost:8080/"
        },
        "id": "i2sAORwrzXDr",
        "outputId": "1c5cb887-c7b5-4924-eb09-be690a87e825"
      },
      "execution_count": null,
      "outputs": [
        {
          "output_type": "stream",
          "name": "stdout",
          "text": [
            "Test Loss: 0.061030\n",
            "\n",
            "Test Accuracy of     0: 98% (969/980)\n",
            "Test Accuracy of     1: 99% (1127/1135)\n",
            "Test Accuracy of     2: 97% (1011/1032)\n",
            "Test Accuracy of     3: 98% (992/1010)\n",
            "Test Accuracy of     4: 97% (962/982)\n",
            "Test Accuracy of     5: 97% (872/892)\n",
            "Test Accuracy of     6: 97% (938/958)\n",
            "Test Accuracy of     7: 97% (999/1028)\n",
            "Test Accuracy of     8: 97% (945/974)\n",
            "Test Accuracy of     9: 97% (984/1009)\n",
            "\n",
            "Test Accuracy (Overall): 97% (9799/10000)\n"
          ]
        }
      ]
    },
    {
      "cell_type": "code",
      "source": [
        "# Visually check the accuracy\n",
        "\n",
        "# obtain one batch of test images\n",
        "dataiter = iter(test_loader)\n",
        "images, labels = dataiter.next()\n",
        "# get sample outputs\n",
        "output = model(images)\n",
        "# convert output probabilities to predicted class\n",
        "_, preds = torch.max(output, 1)\n",
        "# prep images for display\n",
        "images = images.numpy()\n",
        "# plot the images in the batch, along with predicted and true labels\n",
        "fig = plt.figure(figsize=(25, 4))\n",
        "for idx in np.arange(20):\n",
        "    ax = fig.add_subplot(2, 20/2, idx+1, xticks=[], yticks=[])\n",
        "    ax.imshow(np.squeeze(images[idx]), cmap='gray')\n",
        "    ax.set_title(\"{} ({})\".format(str(preds[idx].item()), str(labels[idx].item())),\n",
        "                 color=(\"green\" if preds[idx]==labels[idx] else \"red\"))"
      ],
      "metadata": {
        "colab": {
          "base_uri": "https://localhost:8080/",
          "height": 152
        },
        "id": "-WFLPmqkzZtu",
        "outputId": "0a1c740e-8d83-422f-aede-1e6f49565259"
      },
      "execution_count": null,
      "outputs": [
        {
          "output_type": "display_data",
          "data": {
            "text/plain": [
              "<Figure size 1800x288 with 20 Axes>"
            ],
            "image/png": "[encoded data removed]"
          },
          "metadata": {}
        }
      ]
    },
    {
      "cell_type": "code",
      "source": [
        ""
      ],
      "metadata": {
        "id": "6l6_yflN8nTv"
      },
      "execution_count": null,
      "outputs": []
    },
    {
      "cell_type": "code",
      "source": [
        "! mkdir save_parameters\n",
        "! cd save_parameters\n",
        "\n",
        "fc1_double_weights = model.fc1.weight.detach().numpy() \n",
        "fc1_double_bias = model.fc1.bias.detach().numpy() \n",
        "\n",
        "pd.DataFrame(fc1_double_weights).to_csv('fc1_784x10_double_weights.dat', index=False, header=False)\n",
        "pd.DataFrame(fc1_double_bias).to_csv('fc1_784x10_double_bias.dat', index=False, header=False)\n",
        "\n",
        "files.download('fc1_784x10_double_weights.dat')\n",
        "files.download('fc1_784x10_double_bias.dat')"
      ],
      "metadata": {
        "id": "tPzwNo4tX3AX",
        "colab": {
          "base_uri": "https://localhost:8080/",
          "height": 34
        },
        "outputId": "630bbe59-4e16-4897-8ffa-3b3d4fd2d60a"
      },
      "execution_count": null,
      "outputs": [
        {
          "output_type": "stream",
          "name": "stdout",
          "text": [
            "mkdir: cannot create directory ‘save_parameters’: File exists\n"
          ]
        },
        {
          "output_type": "display_data",
          "data": {
            "text/plain": [
              "<IPython.core.display.Javascript object>"
            ],
            "application/javascript": [
              "\n",
              "    async function download(id, filename, size) {\n",
              "      if (!google.colab.kernel.accessAllowed) {\n",
              "        return;\n",
              "      }\n",
              "      const div = document.createElement('div');\n",
              "      const label = document.createElement('label');\n",
              "      label.textContent = `Downloading \"${filename}\": `;\n",
              "      div.appendChild(label);\n",
              "      const progress = document.createElement('progress');\n",
              "      progress.max = size;\n",
              "      div.appendChild(progress);\n",
              "      document.body.appendChild(div);\n",
              "\n",
              "      const buffers = [];\n",
              "      let downloaded = 0;\n",
              "\n",
              "      const channel = await google.colab.kernel.comms.open(id);\n",
              "      // Send a message to notify the kernel that we're ready.\n",
              "      channel.send({})\n",
              "\n",
              "      for await (const message of channel.messages) {\n",
              "        // Send a message to notify the kernel that we're ready.\n",
              "        channel.send({})\n",
              "        if (message.buffers) {\n",
              "          for (const buffer of message.buffers) {\n",
              "            buffers.push(buffer);\n",
              "            downloaded += buffer.byteLength;\n",
              "            progress.value = downloaded;\n",
              "          }\n",
              "        }\n",
              "      }\n",
              "      const blob = new Blob(buffers, {type: 'application/binary'});\n",
              "      const a = document.createElement('a');\n",
              "      a.href = window.URL.createObjectURL(blob);\n",
              "      a.download = filename;\n",
              "      div.appendChild(a);\n",
              "      a.click();\n",
              "      div.remove();\n",
              "    }\n",
              "  "
            ]
          },
          "metadata": {}
        },
        {
          "output_type": "display_data",
          "data": {
            "text/plain": [
              "<IPython.core.display.Javascript object>"
            ],
            "application/javascript": [
              "download(\"download_f656d754-5709-42fc-814c-68fb838b4b61\", \"fc1_784x10_double_weights.dat\", 164685)"
            ]
          },
          "metadata": {}
        },
        {
          "output_type": "display_data",
          "data": {
            "text/plain": [
              "<IPython.core.display.Javascript object>"
            ],
            "application/javascript": [
              "\n",
              "    async function download(id, filename, size) {\n",
              "      if (!google.colab.kernel.accessAllowed) {\n",
              "        return;\n",
              "      }\n",
              "      const div = document.createElement('div');\n",
              "      const label = document.createElement('label');\n",
              "      label.textContent = `Downloading \"${filename}\": `;\n",
              "      div.appendChild(label);\n",
              "      const progress = document.createElement('progress');\n",
              "      progress.max = size;\n",
              "      div.appendChild(progress);\n",
              "      document.body.appendChild(div);\n",
              "\n",
              "      const buffers = [];\n",
              "      let downloaded = 0;\n",
              "\n",
              "      const channel = await google.colab.kernel.comms.open(id);\n",
              "      // Send a message to notify the kernel that we're ready.\n",
              "      channel.send({})\n",
              "\n",
              "      for await (const message of channel.messages) {\n",
              "        // Send a message to notify the kernel that we're ready.\n",
              "        channel.send({})\n",
              "        if (message.buffers) {\n",
              "          for (const buffer of message.buffers) {\n",
              "            buffers.push(buffer);\n",
              "            downloaded += buffer.byteLength;\n",
              "            progress.value = downloaded;\n",
              "          }\n",
              "        }\n",
              "      }\n",
              "      const blob = new Blob(buffers, {type: 'application/binary'});\n",
              "      const a = document.createElement('a');\n",
              "      a.href = window.URL.createObjectURL(blob);\n",
              "      a.download = filename;\n",
              "      div.appendChild(a);\n",
              "      a.click();\n",
              "      div.remove();\n",
              "    }\n",
              "  "
            ]
          },
          "metadata": {}
        },
        {
          "output_type": "display_data",
          "data": {
            "text/plain": [
              "<IPython.core.display.Javascript object>"
            ],
            "application/javascript": [
              "download(\"download_4e02d57e-d160-456e-a1da-f86aa3193384\", \"fc1_784x10_double_bias.dat\", 207)"
            ]
          },
          "metadata": {}
        }
      ]
    }
  ]
}