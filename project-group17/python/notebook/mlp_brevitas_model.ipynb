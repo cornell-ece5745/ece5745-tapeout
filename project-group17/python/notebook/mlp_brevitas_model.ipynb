{
  "nbformat": 4,
  "nbformat_minor": 0,
  "metadata": {
    "colab": {
      "name": "mlp_brevitas_model.ipynb",
      "provenance": [],
      "collapsed_sections": []
    },
    "kernelspec": {
      "name": "python3",
      "display_name": "Python 3"
    },
    "language_info": {
      "name": "python"
    }
  },
  "cells": [
    {
      "cell_type": "code",
      "execution_count": 28,
      "metadata": {
        "colab": {
          "base_uri": "https://localhost:8080/"
        },
        "id": "CTOpYhUYIGbh",
        "outputId": "e17b5cbc-d0ed-4ce1-94c6-67ff884b09a3"
      },
      "outputs": [
        {
          "output_type": "stream",
          "name": "stdout",
          "text": [
            "Requirement already satisfied: brevitas in /usr/local/lib/python3.7/dist-packages (0.7.1)\n",
            "Requirement already satisfied: netron in /usr/local/lib/python3.7/dist-packages (5.7.0)\n",
            "Requirement already satisfied: onnx in /usr/local/lib/python3.7/dist-packages (1.11.0)\n",
            "Requirement already satisfied: onnxoptimizer in /usr/local/lib/python3.7/dist-packages (0.2.6)\n",
            "Requirement already satisfied: packaging in /usr/local/lib/python3.7/dist-packages (from brevitas) (21.3)\n",
            "Requirement already satisfied: future-annotations in /usr/local/lib/python3.7/dist-packages (from brevitas) (1.0.0)\n",
            "Requirement already satisfied: torch>=1.1.0 in /usr/local/lib/python3.7/dist-packages (from brevitas) (1.10.0+cu111)\n",
            "Requirement already satisfied: dependencies==2.0.1 in /usr/local/lib/python3.7/dist-packages (from brevitas) (2.0.1)\n",
            "Requirement already satisfied: typing-extensions>=3.7.4 in /usr/local/lib/python3.7/dist-packages (from brevitas) (4.1.1)\n",
            "Requirement already satisfied: setuptools in /usr/local/lib/python3.7/dist-packages (from brevitas) (57.4.0)\n",
            "Requirement already satisfied: numpy>=1.16.6 in /usr/local/lib/python3.7/dist-packages (from onnx) (1.21.5)\n",
            "Requirement already satisfied: protobuf>=3.12.2 in /usr/local/lib/python3.7/dist-packages (from onnx) (3.17.3)\n",
            "Requirement already satisfied: six>=1.9 in /usr/local/lib/python3.7/dist-packages (from protobuf>=3.12.2->onnx) (1.15.0)\n",
            "Requirement already satisfied: tokenize-rt>=3 in /usr/local/lib/python3.7/dist-packages (from future-annotations->brevitas) (4.2.1)\n",
            "Requirement already satisfied: pyparsing!=3.0.5,>=2.0.2 in /usr/local/lib/python3.7/dist-packages (from packaging->brevitas) (3.0.8)\n"
          ]
        }
      ],
      "source": [
        "# @software{brevitas,\n",
        "#   author       = {Alessandro Pappalardo},\n",
        "#   title        = {Xilinx/brevitas},\n",
        "#   year         = {2021},\n",
        "#   publisher    = {Zenodo},\n",
        "#   doi          = {10.5281/zenodo.3333552},\n",
        "#   url          = {https://doi.org/10.5281/zenodo.3333552}\n",
        "# }\n",
        "\n",
        "!pip install brevitas netron onnx onnxoptimizer"
      ]
    },
    {
      "cell_type": "code",
      "source": [
        "import torch\n",
        "print(torch.__version__)\n",
        "! python --version"
      ],
      "metadata": {
        "colab": {
          "base_uri": "https://localhost:8080/"
        },
        "id": "rcxNwM0AJK4A",
        "outputId": "1ea1c745-bd85-40e1-ef36-e56ac2f60c61"
      },
      "execution_count": 29,
      "outputs": [
        {
          "output_type": "stream",
          "name": "stdout",
          "text": [
            "1.10.0+cu111\n",
            "Python 3.7.13\n"
          ]
        }
      ]
    },
    {
      "cell_type": "code",
      "source": [
        "import torch\n",
        "import torch.nn as nn\n",
        "import torch.nn.functional as F\n",
        "import torch.optim as optim\n",
        "import torchvision\n",
        "from torchvision import datasets\n",
        "import torchvision.transforms as transforms\n",
        "from torch.utils.data.sampler import SubsetRandomSampler\n",
        "\n",
        "import pandas as pd\n",
        "import matplotlib.pyplot as plt\n",
        "import seaborn as sns\n",
        "%matplotlib inline\n",
        "\n",
        "# PyTorch TensorBoard support\n",
        "from torch.utils.tensorboard import SummaryWriter\n",
        "from datetime import datetime\n",
        "\n",
        "import matplotlib.pyplot as plt\n",
        "import numpy as np\n",
        "\n",
        "import brevitas.nn as qnn\n",
        "from brevitas.quant import Int8Bias as BiasQuant\n",
        "import netron\n",
        "import time\n",
        "from IPython.display import IFrame\n",
        "from brevitas.quant import Int8Bias as BiasQuant\n",
        "import brevitas.quant_tensor"
      ],
      "metadata": {
        "id": "vz0kt5xIJSaf"
      },
      "execution_count": 30,
      "outputs": []
    },
    {
      "cell_type": "code",
      "source": [
        "# Hyperparameters \n",
        "\n",
        "epochs = 20\n",
        "batch_size = 64\n",
        "valid_size = 0.2 \n",
        "learning_rate = 0.00005 # optimizer parameter\n",
        "momentum = 0.9 # optimizer parameter \n",
        "log_interval = 10\n",
        "\n",
        "random_seed = 1\n",
        "torch.backends.cudnn.enabled = False # turned off the nondeterministic algo used in cuDNN\n",
        "# For repeatable experiments, set random seeds for anything using random number generation (numpy and random)\n",
        "torch.manual_seed(random_seed) \n",
        "\n",
        "# number of subprocesses to use for data loading\n",
        "num_workers = 0\n",
        "# how many samples per batch to load\n",
        "batch_size = 20\n",
        "# percentage of training set to use as validation\n",
        "valid_size = 0.2\n",
        "# convert data to torch.FloatTensor\n",
        "transform = transforms.ToTensor() \n",
        "# choose the training and testing datasets\n",
        "train_data = datasets.MNIST(root = 'data', train = True, download = True, transform = transform)\n",
        "test_data = datasets.MNIST(root = 'data', train = False, download = True, transform = transform)"
      ],
      "metadata": {
        "id": "7Vun4d5cNooG"
      },
      "execution_count": 31,
      "outputs": []
    },
    {
      "cell_type": "code",
      "source": [
        "# Set up Dataloaders\n",
        "\n",
        "# obtain training indices that will be used for validation\n",
        "num_train = len(train_data)\n",
        "indices = list(range(num_train))\n",
        "np.random.shuffle(indices)\n",
        "split = int(np.floor(valid_size * num_train))\n",
        "train_index, valid_index = indices[split:], indices[:split]\n",
        "# define samplers for obtaining training and validation batches\n",
        "train_sampler = SubsetRandomSampler(train_index)\n",
        "valid_sampler = SubsetRandomSampler(valid_index)\n",
        "# prepare data loaders\n",
        "train_loader = torch.utils.data.DataLoader(train_data, batch_size = batch_size, \n",
        "                                           sampler = train_sampler, num_workers = num_workers)\n",
        "valid_loader = torch.utils.data.DataLoader(train_data, batch_size = batch_size,\n",
        "                                          sampler = valid_sampler, num_workers = num_workers)\n",
        "test_loader = torch.utils.data.DataLoader(test_data, batch_size = batch_size,\n",
        "                                         num_workers = num_workers)"
      ],
      "metadata": {
        "id": "jP2rWX3NNzEp"
      },
      "execution_count": 32,
      "outputs": []
    },
    {
      "cell_type": "code",
      "source": [
        "# Show example images \n",
        "\n",
        "# obtain one batch of training images\n",
        "dataiter = iter(train_loader)\n",
        "images, labels = dataiter.next()\n",
        "images = images.numpy()\n",
        "print(images.shape)\n",
        "\n",
        "# plot the images in the batch, along with the corresponding labels\n",
        "fig = plt.figure(figsize=(25, 4))\n",
        "for idx in np.arange(20):\n",
        "    ax = fig.add_subplot(2, 20/2, idx+1, xticks=[], yticks=[])\n",
        "    ax.imshow(np.squeeze(images[idx]), cmap='gray')\n",
        "    # print out the correct label for each image\n",
        "    # .item() gets the value contained in a Tensor\n",
        "    ax.set_title(str(labels[idx].item()))"
      ],
      "metadata": {
        "colab": {
          "base_uri": "https://localhost:8080/",
          "height": 168
        },
        "id": "9CwWXxCUN1qw",
        "outputId": "7c76462b-4aac-43e9-b553-741151f9bb58"
      },
      "execution_count": 33,
      "outputs": [
        {
          "output_type": "stream",
          "name": "stdout",
          "text": [
            "(20, 1, 28, 28)\n"
          ]
        },
        {
          "output_type": "display_data",
          "data": {
            "text/plain": [
              "<Figure size 1800x288 with 20 Axes>"
            ],
            "image/png": "[encoded data removed]"
          },
          "metadata": {}
        }
      ]
    },
    {
      "cell_type": "code",
      "source": [
        "# Show an image in detail \n",
        "\n",
        "img = np.squeeze(images[1])\n",
        "print(type(img[0][0])) # float32: sign bit, 8 bits exponent, 23 bits mantissa\n",
        "fig = plt.figure(figsize = (12,12)) \n",
        "ax = fig.add_subplot(111)\n",
        "ax.imshow(img, cmap='gray')\n",
        "width, height = img.shape\n",
        "thresh = img.max()/2.5\n",
        "for x in range(width):\n",
        "    for y in range(height):\n",
        "        val = round(img[x][y],2) if img[x][y] !=0 else 0\n",
        "        ax.annotate(str(val), xy=(y,x),\n",
        "                    horizontalalignment='center',\n",
        "                    verticalalignment='center',\n",
        "                    color='white' if img[x][y]<thresh else 'black')"
      ],
      "metadata": {
        "colab": {
          "base_uri": "https://localhost:8080/",
          "height": 718
        },
        "id": "R_X6qHMgN27U",
        "outputId": "0381b8a6-be28-4a36-9253-4137701da27f"
      },
      "execution_count": 34,
      "outputs": [
        {
          "output_type": "stream",
          "name": "stdout",
          "text": [
            "<class 'numpy.float32'>\n"
          ]
        },
        {
          "output_type": "display_data",
          "data": {
            "text/plain": [
              "<Figure size 864x864 with 1 Axes>"
            ],
            "image/png": "[encoded data removed]"
          },
          "metadata": {
            "needs_background": "light"
          }
        }
      ]
    },
    {
      "cell_type": "code",
      "source": [
        "# Define integer-only MLP architecture using Brevitas \n",
        "\n",
        "class Net_default(nn.Module):\n",
        "    def __init__(self):\n",
        "        super(Net,self).__init__()\n",
        "        self.quant_inp = qnn.QuantIdentity(\n",
        "            bit_width=4, return_quant_tensor=True)\n",
        "        # number of hidden nodes in each layer (512)\n",
        "        hidden_1 = 512\n",
        "        hidden_2 = 512\n",
        "        # linear layer (784 -> hidden_1)\n",
        "        self.fc1 = qnn.QuantLinear(28*28, 512, bias=True, weight_bit_width=3, bias_quant=BiasQuant, return_quant_tensor=True)      \n",
        "        # qnn.relu is stateful (need to declare separate relu functions for the layers)\n",
        "        self.relu1 = qnn.QuantReLU(\n",
        "             bit_width=4, return_quant_tensor=True)\n",
        "        # linear layer (n_hidden -> hidden_2)\n",
        "        self.fc2 = qnn.QuantLinear(512, 512, bias=True, weight_bit_width=3, bias_quant=BiasQuant, return_quant_tensor=True)\n",
        "        self.relu2 = qnn.QuantReLU(\n",
        "             bit_width=4, return_quant_tensor=True)\n",
        "        # linear layer (n_hidden -> 10)\n",
        "        self.fc3 = qnn.QuantLinear(512, 10, bias=True, weight_bit_width=3, bias_quant=BiasQuant, return_quant_tensor=True)\n",
        "        # dropout layer (p=0.2)\n",
        "        # dropout prevents overfitting of data\n",
        "        self.droput = nn.Dropout(0.2)         # no dropout in the eval() mode (no impact in hw)\n",
        "        \n",
        "    def forward(self,x):\n",
        "        # flatten image input\n",
        "        x = x.view(-1,28*28)\n",
        "        # quantize the input \n",
        "        x = self.quant_inp(x)\n",
        "        # add hidden layer, with relu activation function\n",
        "        x = self.relu1(self.fc1(x))\n",
        "        # add dropout layer\n",
        "        x = self.droput(x)\n",
        "         # add hidden layer, with relu activation function\n",
        "        x = self.relu2(self.fc2(x))\n",
        "        # add dropout layer\n",
        "        x = self.droput(x)\n",
        "        # add output layer\n",
        "        x = self.fc3(x)\n",
        "        return x"
      ],
      "metadata": {
        "id": "Mo1Cmxl_dNEH"
      },
      "execution_count": 35,
      "outputs": []
    },
    {
      "cell_type": "code",
      "source": [
        "# Define integer-only MLP architecture using Brevitas \n",
        "\n",
        "class Net_20(nn.Module):\n",
        "    def __init__(self):\n",
        "        super(Net_20,self).__init__()\n",
        "        self.quant_inp = qnn.QuantIdentity(\n",
        "            bit_width=20, return_quant_tensor=True)\n",
        "        # number of hidden nodes in each layer (512)\n",
        "        hidden_1 = 512\n",
        "        hidden_2 = 512\n",
        "        # linear layer (784 -> hidden_1)\n",
        "        self.fc1 = qnn.QuantLinear(28*28, 512, bias=True, weight_bit_width=20, bias_bit_width=20, return_quant_tensor=True)      \n",
        "        # qnn.relu is stateful (need to declare separate relu functions for the layers)\n",
        "        self.relu1 = qnn.QuantReLU(\n",
        "             bit_width=20, return_quant_tensor=True)\n",
        "        # linear layer (n_hidden -> hidden_2)\n",
        "        self.fc2 = qnn.QuantLinear(512, 512, bias=True, weight_bit_width=20, bias_bit_width=20, return_quant_tensor=True)\n",
        "        self.relu2 = qnn.QuantReLU(\n",
        "             bit_width=20, return_quant_tensor=True)\n",
        "        # linear layer (n_hidden -> 10)\n",
        "        self.fc3 = qnn.QuantLinear(512, 10, bias=True, weight_bit_width=20, bias_bit_width=20, return_quant_tensor=True)\n",
        "        # dropout layer (p=0.2)\n",
        "        # dropout prevents overfitting of data\n",
        "        self.droput = nn.Dropout(0.2)         # no dropout in the eval() mode (no impact in hw)\n",
        "        \n",
        "    def forward(self,x):\n",
        "        # flatten image input\n",
        "        x = x.view(-1,28*28)\n",
        "        # quantize the input \n",
        "        x = self.quant_inp(x)\n",
        "        # add hidden layer, with relu activation function\n",
        "        x = self.relu1(self.fc1(x))\n",
        "        # add dropout layer\n",
        "        x = self.droput(x)\n",
        "         # add hidden layer, with relu activation function\n",
        "        x = self.relu2(self.fc2(x))\n",
        "        # add dropout layer\n",
        "        x = self.droput(x)\n",
        "        # add output layer\n",
        "        x = self.fc3(x)\n",
        "        return x\n",
        "        \n",
        "# initialize the NN\n",
        "model = Net_20()\n",
        "print(model)"
      ],
      "metadata": {
        "colab": {
          "base_uri": "https://localhost:8080/"
        },
        "id": "BYfiRVPpJVbD",
        "outputId": "01c68a62-7695-431c-eb81-6f29f5a4848e"
      },
      "execution_count": 36,
      "outputs": [
        {
          "output_type": "stream",
          "name": "stdout",
          "text": [
            "Net_20(\n",
            "  (quant_inp): QuantIdentity(\n",
            "    (input_quant): ActQuantProxyFromInjector(\n",
            "      (_zero_hw_sentinel): StatelessBuffer()\n",
            "    )\n",
            "    (act_quant): ActQuantProxyFromInjector(\n",
            "      (_zero_hw_sentinel): StatelessBuffer()\n",
            "      (fused_activation_quant_proxy): FusedActivationQuantProxy(\n",
            "        (activation_impl): Identity()\n",
            "        (tensor_quant): RescalingIntQuant(\n",
            "          (int_quant): IntQuant(\n",
            "            (float_to_int_impl): RoundSte()\n",
            "            (tensor_clamp_impl): TensorClamp()\n",
            "            (delay_wrapper): DelayWrapper(\n",
            "              (delay_impl): _NoDelay()\n",
            "            )\n",
            "          )\n",
            "          (scaling_impl): ParameterFromRuntimeStatsScaling(\n",
            "            (stats_input_view_shape_impl): OverTensorView()\n",
            "            (stats): _Stats(\n",
            "              (stats_impl): AbsPercentile()\n",
            "            )\n",
            "            (restrict_clamp_scaling): _RestrictClampValue(\n",
            "              (clamp_min_ste): Identity()\n",
            "              (restrict_value_impl): FloatRestrictValue()\n",
            "            )\n",
            "            (restrict_inplace_preprocess): Identity()\n",
            "            (restrict_preprocess): Identity()\n",
            "          )\n",
            "          (int_scaling_impl): IntScaling()\n",
            "          (zero_point_impl): ZeroZeroPoint(\n",
            "            (zero_point): StatelessBuffer()\n",
            "          )\n",
            "          (msb_clamp_bit_width_impl): BitWidthConst(\n",
            "            (bit_width): StatelessBuffer()\n",
            "          )\n",
            "        )\n",
            "      )\n",
            "    )\n",
            "  )\n",
            "  (fc1): QuantLinear(\n",
            "    in_features=784, out_features=512, bias=True\n",
            "    (input_quant): ActQuantProxyFromInjector(\n",
            "      (_zero_hw_sentinel): StatelessBuffer()\n",
            "    )\n",
            "    (output_quant): ActQuantProxyFromInjector(\n",
            "      (_zero_hw_sentinel): StatelessBuffer()\n",
            "    )\n",
            "    (weight_quant): WeightQuantProxyFromInjector(\n",
            "      (_zero_hw_sentinel): StatelessBuffer()\n",
            "      (tensor_quant): RescalingIntQuant(\n",
            "        (int_quant): IntQuant(\n",
            "          (float_to_int_impl): RoundSte()\n",
            "          (tensor_clamp_impl): TensorClampSte()\n",
            "          (delay_wrapper): DelayWrapper(\n",
            "            (delay_impl): _NoDelay()\n",
            "          )\n",
            "        )\n",
            "        (scaling_impl): StatsFromParameterScaling(\n",
            "          (parameter_list_stats): _ParameterListStats(\n",
            "            (first_tracked_param): _ViewParameterWrapper(\n",
            "              (view_shape_impl): OverTensorView()\n",
            "            )\n",
            "            (stats): _Stats(\n",
            "              (stats_impl): AbsMax()\n",
            "            )\n",
            "          )\n",
            "          (stats_scaling_impl): _StatsScaling(\n",
            "            (affine_rescaling): Identity()\n",
            "            (restrict_clamp_scaling): _RestrictClampValue(\n",
            "              (clamp_min_ste): Identity()\n",
            "              (restrict_value_impl): FloatRestrictValue()\n",
            "            )\n",
            "            (restrict_scaling_pre): Identity()\n",
            "          )\n",
            "        )\n",
            "        (int_scaling_impl): IntScaling()\n",
            "        (zero_point_impl): ZeroZeroPoint(\n",
            "          (zero_point): StatelessBuffer()\n",
            "        )\n",
            "        (msb_clamp_bit_width_impl): BitWidthConst(\n",
            "          (bit_width): StatelessBuffer()\n",
            "        )\n",
            "      )\n",
            "    )\n",
            "    (bias_quant): BiasQuantProxyFromInjector(\n",
            "      (_zero_hw_sentinel): StatelessBuffer()\n",
            "    )\n",
            "  )\n",
            "  (relu1): QuantReLU(\n",
            "    (input_quant): ActQuantProxyFromInjector(\n",
            "      (_zero_hw_sentinel): StatelessBuffer()\n",
            "    )\n",
            "    (act_quant): ActQuantProxyFromInjector(\n",
            "      (_zero_hw_sentinel): StatelessBuffer()\n",
            "      (fused_activation_quant_proxy): FusedActivationQuantProxy(\n",
            "        (activation_impl): ReLU()\n",
            "        (tensor_quant): RescalingIntQuant(\n",
            "          (int_quant): IntQuant(\n",
            "            (float_to_int_impl): RoundSte()\n",
            "            (tensor_clamp_impl): TensorClamp()\n",
            "            (delay_wrapper): DelayWrapper(\n",
            "              (delay_impl): _NoDelay()\n",
            "            )\n",
            "          )\n",
            "          (scaling_impl): ParameterFromRuntimeStatsScaling(\n",
            "            (stats_input_view_shape_impl): OverTensorView()\n",
            "            (stats): _Stats(\n",
            "              (stats_impl): AbsPercentile()\n",
            "            )\n",
            "            (restrict_clamp_scaling): _RestrictClampValue(\n",
            "              (clamp_min_ste): Identity()\n",
            "              (restrict_value_impl): FloatRestrictValue()\n",
            "            )\n",
            "            (restrict_inplace_preprocess): Identity()\n",
            "            (restrict_preprocess): Identity()\n",
            "          )\n",
            "          (int_scaling_impl): IntScaling()\n",
            "          (zero_point_impl): ZeroZeroPoint(\n",
            "            (zero_point): StatelessBuffer()\n",
            "          )\n",
            "          (msb_clamp_bit_width_impl): BitWidthConst(\n",
            "            (bit_width): StatelessBuffer()\n",
            "          )\n",
            "        )\n",
            "      )\n",
            "    )\n",
            "  )\n",
            "  (fc2): QuantLinear(\n",
            "    in_features=512, out_features=512, bias=True\n",
            "    (input_quant): ActQuantProxyFromInjector(\n",
            "      (_zero_hw_sentinel): StatelessBuffer()\n",
            "    )\n",
            "    (output_quant): ActQuantProxyFromInjector(\n",
            "      (_zero_hw_sentinel): StatelessBuffer()\n",
            "    )\n",
            "    (weight_quant): WeightQuantProxyFromInjector(\n",
            "      (_zero_hw_sentinel): StatelessBuffer()\n",
            "      (tensor_quant): RescalingIntQuant(\n",
            "        (int_quant): IntQuant(\n",
            "          (float_to_int_impl): RoundSte()\n",
            "          (tensor_clamp_impl): TensorClampSte()\n",
            "          (delay_wrapper): DelayWrapper(\n",
            "            (delay_impl): _NoDelay()\n",
            "          )\n",
            "        )\n",
            "        (scaling_impl): StatsFromParameterScaling(\n",
            "          (parameter_list_stats): _ParameterListStats(\n",
            "            (first_tracked_param): _ViewParameterWrapper(\n",
            "              (view_shape_impl): OverTensorView()\n",
            "            )\n",
            "            (stats): _Stats(\n",
            "              (stats_impl): AbsMax()\n",
            "            )\n",
            "          )\n",
            "          (stats_scaling_impl): _StatsScaling(\n",
            "            (affine_rescaling): Identity()\n",
            "            (restrict_clamp_scaling): _RestrictClampValue(\n",
            "              (clamp_min_ste): Identity()\n",
            "              (restrict_value_impl): FloatRestrictValue()\n",
            "            )\n",
            "            (restrict_scaling_pre): Identity()\n",
            "          )\n",
            "        )\n",
            "        (int_scaling_impl): IntScaling()\n",
            "        (zero_point_impl): ZeroZeroPoint(\n",
            "          (zero_point): StatelessBuffer()\n",
            "        )\n",
            "        (msb_clamp_bit_width_impl): BitWidthConst(\n",
            "          (bit_width): StatelessBuffer()\n",
            "        )\n",
            "      )\n",
            "    )\n",
            "    (bias_quant): BiasQuantProxyFromInjector(\n",
            "      (_zero_hw_sentinel): StatelessBuffer()\n",
            "    )\n",
            "  )\n",
            "  (relu2): QuantReLU(\n",
            "    (input_quant): ActQuantProxyFromInjector(\n",
            "      (_zero_hw_sentinel): StatelessBuffer()\n",
            "    )\n",
            "    (act_quant): ActQuantProxyFromInjector(\n",
            "      (_zero_hw_sentinel): StatelessBuffer()\n",
            "      (fused_activation_quant_proxy): FusedActivationQuantProxy(\n",
            "        (activation_impl): ReLU()\n",
            "        (tensor_quant): RescalingIntQuant(\n",
            "          (int_quant): IntQuant(\n",
            "            (float_to_int_impl): RoundSte()\n",
            "            (tensor_clamp_impl): TensorClamp()\n",
            "            (delay_wrapper): DelayWrapper(\n",
            "              (delay_impl): _NoDelay()\n",
            "            )\n",
            "          )\n",
            "          (scaling_impl): ParameterFromRuntimeStatsScaling(\n",
            "            (stats_input_view_shape_impl): OverTensorView()\n",
            "            (stats): _Stats(\n",
            "              (stats_impl): AbsPercentile()\n",
            "            )\n",
            "            (restrict_clamp_scaling): _RestrictClampValue(\n",
            "              (clamp_min_ste): Identity()\n",
            "              (restrict_value_impl): FloatRestrictValue()\n",
            "            )\n",
            "            (restrict_inplace_preprocess): Identity()\n",
            "            (restrict_preprocess): Identity()\n",
            "          )\n",
            "          (int_scaling_impl): IntScaling()\n",
            "          (zero_point_impl): ZeroZeroPoint(\n",
            "            (zero_point): StatelessBuffer()\n",
            "          )\n",
            "          (msb_clamp_bit_width_impl): BitWidthConst(\n",
            "            (bit_width): StatelessBuffer()\n",
            "          )\n",
            "        )\n",
            "      )\n",
            "    )\n",
            "  )\n",
            "  (fc3): QuantLinear(\n",
            "    in_features=512, out_features=10, bias=True\n",
            "    (input_quant): ActQuantProxyFromInjector(\n",
            "      (_zero_hw_sentinel): StatelessBuffer()\n",
            "    )\n",
            "    (output_quant): ActQuantProxyFromInjector(\n",
            "      (_zero_hw_sentinel): StatelessBuffer()\n",
            "    )\n",
            "    (weight_quant): WeightQuantProxyFromInjector(\n",
            "      (_zero_hw_sentinel): StatelessBuffer()\n",
            "      (tensor_quant): RescalingIntQuant(\n",
            "        (int_quant): IntQuant(\n",
            "          (float_to_int_impl): RoundSte()\n",
            "          (tensor_clamp_impl): TensorClampSte()\n",
            "          (delay_wrapper): DelayWrapper(\n",
            "            (delay_impl): _NoDelay()\n",
            "          )\n",
            "        )\n",
            "        (scaling_impl): StatsFromParameterScaling(\n",
            "          (parameter_list_stats): _ParameterListStats(\n",
            "            (first_tracked_param): _ViewParameterWrapper(\n",
            "              (view_shape_impl): OverTensorView()\n",
            "            )\n",
            "            (stats): _Stats(\n",
            "              (stats_impl): AbsMax()\n",
            "            )\n",
            "          )\n",
            "          (stats_scaling_impl): _StatsScaling(\n",
            "            (affine_rescaling): Identity()\n",
            "            (restrict_clamp_scaling): _RestrictClampValue(\n",
            "              (clamp_min_ste): Identity()\n",
            "              (restrict_value_impl): FloatRestrictValue()\n",
            "            )\n",
            "            (restrict_scaling_pre): Identity()\n",
            "          )\n",
            "        )\n",
            "        (int_scaling_impl): IntScaling()\n",
            "        (zero_point_impl): ZeroZeroPoint(\n",
            "          (zero_point): StatelessBuffer()\n",
            "        )\n",
            "        (msb_clamp_bit_width_impl): BitWidthConst(\n",
            "          (bit_width): StatelessBuffer()\n",
            "        )\n",
            "      )\n",
            "    )\n",
            "    (bias_quant): BiasQuantProxyFromInjector(\n",
            "      (_zero_hw_sentinel): StatelessBuffer()\n",
            "    )\n",
            "  )\n",
            "  (droput): Dropout(p=0.2, inplace=False)\n",
            ")\n"
          ]
        }
      ]
    },
    {
      "cell_type": "code",
      "source": [
        "# specify loss function (categorical cross-entropy)\n",
        "criterion = nn.CrossEntropyLoss()\n",
        "# specify optimizer (stochastic gradient descent) and learning rate = 0.01\n",
        "optimizer = torch.optim.SGD(model.parameters(),lr = 0.01)"
      ],
      "metadata": {
        "id": "D888Ram2VUKn"
      },
      "execution_count": 37,
      "outputs": []
    },
    {
      "cell_type": "code",
      "source": [
        "# number of epochs to train the model\n",
        "n_epochs = 15\n",
        "# initialize tracker for minimum validation loss\n",
        "valid_loss_min = np.Inf  # set initial \"min\" to infinity\n",
        "for epoch in range(n_epochs):\n",
        "    # monitor losses\n",
        "    train_loss = 0\n",
        "    valid_loss = 0\n",
        "    \n",
        "     \n",
        "    ###################\n",
        "    # train the model #\n",
        "    ###################\n",
        "    model.train() # prep model for training\n",
        "    for data,label in train_loader:\n",
        "        # clear the gradients of all optimized variables\n",
        "        optimizer.zero_grad()\n",
        "        # forward pass: compute predicted outputs by passing inputs to the model\n",
        "        output = model(data)\n",
        "        # calculate the loss\n",
        "        loss = criterion(output,label)\n",
        "        # backward pass: compute gradient of the loss with respect to model parameters\n",
        "        loss.backward()\n",
        "        # perform a single optimization step (parameter update)\n",
        "        optimizer.step()\n",
        "        # update running training loss\n",
        "        train_loss += loss.item() * data.size(0)\n",
        "        \n",
        "        \n",
        "     ######################    \n",
        "    # validate the model #\n",
        "    ######################\n",
        "    model.eval()  # prep model for evaluation\n",
        "    for data,label in valid_loader:\n",
        "        # forward pass: compute predicted outputs by passing inputs to the model\n",
        "        output = model(data)\n",
        "        # calculate the loss\n",
        "        loss = criterion(output,label)\n",
        "        # update running validation loss \n",
        "        valid_loss = loss.item() * data.size(0)\n",
        "    \n",
        "    # print training/validation statistics \n",
        "    # calculate average loss over an epoch\n",
        "    train_loss = train_loss / len(train_loader.sampler)\n",
        "    valid_loss = valid_loss / len(valid_loader.sampler)\n",
        "    \n",
        "    print('Epoch: {} \\tTraining Loss: {:.6f} \\tValidation Loss: {:.6f}'.format(\n",
        "        epoch+1, \n",
        "        train_loss,\n",
        "        valid_loss\n",
        "        ))\n",
        "    \n",
        "    # save model if validation loss has decreased\n",
        "    if valid_loss <= valid_loss_min:\n",
        "        print('Validation loss decreased ({:.6f} --> {:.6f}).  Saving model ...'.format(\n",
        "        valid_loss_min,\n",
        "        valid_loss))\n",
        "        torch.save(model.state_dict(), 'model.pt')\n",
        "        valid_loss_min = valid_loss"
      ],
      "metadata": {
        "colab": {
          "base_uri": "https://localhost:8080/"
        },
        "id": "hJ9xJ7PiViec",
        "outputId": "cbe544dd-cea7-4635-9362-1dd2677b4a9e"
      },
      "execution_count": 38,
      "outputs": [
        {
          "output_type": "stream",
          "name": "stdout",
          "text": [
            "Epoch: 1 \tTraining Loss: 0.960669 \tValidation Loss: 0.000493\n",
            "Validation loss decreased (inf --> 0.000493).  Saving model ...\n",
            "Epoch: 2 \tTraining Loss: 0.350875 \tValidation Loss: 0.000543\n",
            "Epoch: 3 \tTraining Loss: 0.277985 \tValidation Loss: 0.000644\n",
            "Epoch: 4 \tTraining Loss: 0.230024 \tValidation Loss: 0.000393\n",
            "Validation loss decreased (0.000493 --> 0.000393).  Saving model ...\n",
            "Epoch: 5 \tTraining Loss: 0.193611 \tValidation Loss: 0.000430\n",
            "Epoch: 6 \tTraining Loss: 0.166627 \tValidation Loss: 0.000046\n",
            "Validation loss decreased (0.000393 --> 0.000046).  Saving model ...\n",
            "Epoch: 7 \tTraining Loss: 0.147269 \tValidation Loss: 0.000246\n",
            "Epoch: 8 \tTraining Loss: 0.132055 \tValidation Loss: 0.000103\n",
            "Epoch: 9 \tTraining Loss: 0.117885 \tValidation Loss: 0.000013\n",
            "Validation loss decreased (0.000046 --> 0.000013).  Saving model ...\n",
            "Epoch: 10 \tTraining Loss: 0.108369 \tValidation Loss: 0.000297\n",
            "Epoch: 11 \tTraining Loss: 0.098470 \tValidation Loss: 0.000062\n",
            "Epoch: 12 \tTraining Loss: 0.090821 \tValidation Loss: 0.000017\n",
            "Epoch: 13 \tTraining Loss: 0.083203 \tValidation Loss: 0.000519\n",
            "Epoch: 14 \tTraining Loss: 0.077403 \tValidation Loss: 0.000726\n",
            "Epoch: 15 \tTraining Loss: 0.071924 \tValidation Loss: 0.000479\n"
          ]
        }
      ]
    },
    {
      "cell_type": "code",
      "source": [
        "# Test loss and accuracy\n",
        "\n",
        "# initialize lists to monitor test loss and accuracy\n",
        "test_loss = 0.0\n",
        "class_correct = list(0. for i in range(10))\n",
        "class_total = list(0. for i in range(10))\n",
        "model.eval() # prep model for evaluation\n",
        "for data, target in test_loader:\n",
        "    # forward pass: compute predicted outputs by passing inputs to the model\n",
        "    output = model(data)\n",
        "    # calculate the loss\n",
        "    loss = criterion(output, target)\n",
        "    # update test loss \n",
        "    test_loss += loss.item()*data.size(0)\n",
        "    # convert output probabilities to predicted class\n",
        "    _, pred = torch.max(output, 1)\n",
        "    # compare predictions to true label\n",
        "    correct = np.squeeze(pred.eq(target.data.view_as(pred)))\n",
        "    # calculate test accuracy for each object class\n",
        "    for i in range(len(target)):\n",
        "        label = target.data[i]\n",
        "        class_correct[label] += correct[i].item()\n",
        "        class_total[label] += 1\n",
        "# calculate and print avg test loss\n",
        "test_loss = test_loss/len(test_loader.sampler)\n",
        "print('Test Loss: {:.6f}\\n'.format(test_loss))\n",
        "for i in range(10):\n",
        "    if class_total[i] > 0:\n",
        "        print('Test Accuracy of %5s: %2d%% (%2d/%2d)' % (\n",
        "            str(i), 100 * class_correct[i] / class_total[i],\n",
        "            np.sum(class_correct[i]), np.sum(class_total[i])))\n",
        "    else:\n",
        "        print('Test Accuracy of %5s: N/A (no training examples)' % (classes[i]))\n",
        "print('\\nTest Accuracy (Overall): %2d%% (%2d/%2d)' % (\n",
        "    100. * np.sum(class_correct) / np.sum(class_total),\n",
        "    np.sum(class_correct), np.sum(class_total)))"
      ],
      "metadata": {
        "colab": {
          "base_uri": "https://localhost:8080/"
        },
        "id": "NpizUOoLXNPG",
        "outputId": "b339c695-4ec4-4a0e-92aa-3a1448215f39"
      },
      "execution_count": 39,
      "outputs": [
        {
          "output_type": "stream",
          "name": "stdout",
          "text": [
            "Test Loss: 0.076952\n",
            "\n",
            "Test Accuracy of     0: 98% (968/980)\n",
            "Test Accuracy of     1: 98% (1122/1135)\n",
            "Test Accuracy of     2: 97% (1008/1032)\n",
            "Test Accuracy of     3: 98% (991/1010)\n",
            "Test Accuracy of     4: 97% (953/982)\n",
            "Test Accuracy of     5: 96% (858/892)\n",
            "Test Accuracy of     6: 98% (939/958)\n",
            "Test Accuracy of     7: 96% (994/1028)\n",
            "Test Accuracy of     8: 96% (944/974)\n",
            "Test Accuracy of     9: 97% (979/1009)\n",
            "\n",
            "Test Accuracy (Overall): 97% (9756/10000)\n"
          ]
        }
      ]
    },
    {
      "cell_type": "code",
      "source": [
        "# Save weights as csv \n",
        "\n",
        "import pandas as pd \n",
        "\n",
        "! mkdir save_parameters\n",
        "! cd save_parameters\n",
        "fc1_weights_tmp = model.fc1.weight.detach().numpy().reshape(-1)\n",
        "fc1_weights = model.fc1.weight.detach().numpy().reshape(1, -1)\n",
        "print(fc1_weights_tmp)\n",
        "print(fc1_weights)\n",
        "pd.DataFrame(fc1_weights).to_csv('fc1_weights.dat', index=False, header=False)\n",
        "fc1_bias = model.fc1.bias.detach().numpy().reshape(1, -1)\n",
        "pd.DataFrame(fc1_bias).to_csv('fc1_bias.dat', index=False, header=False)\n",
        "\n",
        "fc2_weights = model.fc2.weight.detach().numpy().reshape(1, -1)\n",
        "pd.DataFrame(fc2_weights).to_csv('fc2_weights.dat', index=False, header=False)\n",
        "fc2_bias = model.fc2.bias.detach().numpy().reshape(1, -1)\n",
        "pd.DataFrame(fc2_bias).to_csv('fc2_bias.dat', index=False, header=False)\n",
        "\n",
        "fc3_weights = model.fc3.weight.detach().numpy().reshape(1, -1)\n",
        "pd.DataFrame(fc3_weights).to_csv('fc3_weights.dat', index=False, header=False)\n",
        "fc3_bias = model.fc3.bias.detach().numpy().reshape(1, -1)\n",
        "pd.DataFrame(fc3_bias).to_csv('fc3_bias.dat', index=False, header=False)\n",
        "\n",
        "\n",
        "from google.colab import files\n",
        "\n",
        "files.download('fc1_weights.dat')\n",
        "files.download('fc1_bias.dat')\n",
        "\n",
        "files.download('fc2_weights.dat')\n",
        "files.download('fc2_bias.dat')\n",
        "\n",
        "files.download('fc3_weights.dat')\n",
        "files.download('fc3_bias.dat')"
      ],
      "metadata": {
        "colab": {
          "base_uri": "https://localhost:8080/",
          "height": 86
        },
        "id": "FpY42KpgVi9p",
        "outputId": "5bc391ce-e1ad-4c30-9d48-b0f8817aea7e"
      },
      "execution_count": 40,
      "outputs": [
        {
          "output_type": "stream",
          "name": "stdout",
          "text": [
            "[-0.01254923 -0.01846748 -0.00285797 ...  0.00098357  0.03090337\n",
            " -0.01098317]\n",
            "[[-0.01254923 -0.01846748 -0.00285797 ...  0.00098357  0.03090337\n",
            "  -0.01098317]]\n"
          ]
        },
        {
          "output_type": "display_data",
          "data": {
            "text/plain": [
              "<IPython.core.display.Javascript object>"
            ],
            "application/javascript": [
              "\n",
              "    async function download(id, filename, size) {\n",
              "      if (!google.colab.kernel.accessAllowed) {\n",
              "        return;\n",
              "      }\n",
              "      const div = document.createElement('div');\n",
              "      const label = document.createElement('label');\n",
              "      label.textContent = `Downloading \"${filename}\": `;\n",
              "      div.appendChild(label);\n",
              "      const progress = document.createElement('progress');\n",
              "      progress.max = size;\n",
              "      div.appendChild(progress);\n",
              "      document.body.appendChild(div);\n",
              "\n",
              "      const buffers = [];\n",
              "      let downloaded = 0;\n",
              "\n",
              "      const channel = await google.colab.kernel.comms.open(id);\n",
              "      // Send a message to notify the kernel that we're ready.\n",
              "      channel.send({})\n",
              "\n",
              "      for await (const message of channel.messages) {\n",
              "        // Send a message to notify the kernel that we're ready.\n",
              "        channel.send({})\n",
              "        if (message.buffers) {\n",
              "          for (const buffer of message.buffers) {\n",
              "            buffers.push(buffer);\n",
              "            downloaded += buffer.byteLength;\n",
              "            progress.value = downloaded;\n",
              "          }\n",
              "        }\n",
              "      }\n",
              "      const blob = new Blob(buffers, {type: 'application/binary'});\n",
              "      const a = document.createElement('a');\n",
              "      a.href = window.URL.createObjectURL(blob);\n",
              "      a.download = filename;\n",
              "      div.appendChild(a);\n",
              "      a.click();\n",
              "      div.remove();\n",
              "    }\n",
              "  "
            ]
          },
          "metadata": {}
        },
        {
          "output_type": "display_data",
          "data": {
            "text/plain": [
              "<IPython.core.display.Javascript object>"
            ],
            "application/javascript": [
              "download(\"download_7c8d3e05-2e10-46ea-80ca-65e573a517b5\", \"fc1_weights.dat\", 5014555)"
            ]
          },
          "metadata": {}
        },
        {
          "output_type": "display_data",
          "data": {
            "text/plain": [
              "<IPython.core.display.Javascript object>"
            ],
            "application/javascript": [
              "\n",
              "    async function download(id, filename, size) {\n",
              "      if (!google.colab.kernel.accessAllowed) {\n",
              "        return;\n",
              "      }\n",
              "      const div = document.createElement('div');\n",
              "      const label = document.createElement('label');\n",
              "      label.textContent = `Downloading \"${filename}\": `;\n",
              "      div.appendChild(label);\n",
              "      const progress = document.createElement('progress');\n",
              "      progress.max = size;\n",
              "      div.appendChild(progress);\n",
              "      document.body.appendChild(div);\n",
              "\n",
              "      const buffers = [];\n",
              "      let downloaded = 0;\n",
              "\n",
              "      const channel = await google.colab.kernel.comms.open(id);\n",
              "      // Send a message to notify the kernel that we're ready.\n",
              "      channel.send({})\n",
              "\n",
              "      for await (const message of channel.messages) {\n",
              "        // Send a message to notify the kernel that we're ready.\n",
              "        channel.send({})\n",
              "        if (message.buffers) {\n",
              "          for (const buffer of message.buffers) {\n",
              "            buffers.push(buffer);\n",
              "            downloaded += buffer.byteLength;\n",
              "            progress.value = downloaded;\n",
              "          }\n",
              "        }\n",
              "      }\n",
              "      const blob = new Blob(buffers, {type: 'application/binary'});\n",
              "      const a = document.createElement('a');\n",
              "      a.href = window.URL.createObjectURL(blob);\n",
              "      a.download = filename;\n",
              "      div.appendChild(a);\n",
              "      a.click();\n",
              "      div.remove();\n",
              "    }\n",
              "  "
            ]
          },
          "metadata": {}
        },
        {
          "output_type": "display_data",
          "data": {
            "text/plain": [
              "<IPython.core.display.Javascript object>"
            ],
            "application/javascript": [
              "download(\"download_2c6efe7b-c6cb-4ed2-9e28-500195007583\", \"fc1_bias.dat\", 6317)"
            ]
          },
          "metadata": {}
        },
        {
          "output_type": "display_data",
          "data": {
            "text/plain": [
              "<IPython.core.display.Javascript object>"
            ],
            "application/javascript": [
              "\n",
              "    async function download(id, filename, size) {\n",
              "      if (!google.colab.kernel.accessAllowed) {\n",
              "        return;\n",
              "      }\n",
              "      const div = document.createElement('div');\n",
              "      const label = document.createElement('label');\n",
              "      label.textContent = `Downloading \"${filename}\": `;\n",
              "      div.appendChild(label);\n",
              "      const progress = document.createElement('progress');\n",
              "      progress.max = size;\n",
              "      div.appendChild(progress);\n",
              "      document.body.appendChild(div);\n",
              "\n",
              "      const buffers = [];\n",
              "      let downloaded = 0;\n",
              "\n",
              "      const channel = await google.colab.kernel.comms.open(id);\n",
              "      // Send a message to notify the kernel that we're ready.\n",
              "      channel.send({})\n",
              "\n",
              "      for await (const message of channel.messages) {\n",
              "        // Send a message to notify the kernel that we're ready.\n",
              "        channel.send({})\n",
              "        if (message.buffers) {\n",
              "          for (const buffer of message.buffers) {\n",
              "            buffers.push(buffer);\n",
              "            downloaded += buffer.byteLength;\n",
              "            progress.value = downloaded;\n",
              "          }\n",
              "        }\n",
              "      }\n",
              "      const blob = new Blob(buffers, {type: 'application/binary'});\n",
              "      const a = document.createElement('a');\n",
              "      a.href = window.URL.createObjectURL(blob);\n",
              "      a.download = filename;\n",
              "      div.appendChild(a);\n",
              "      a.click();\n",
              "      div.remove();\n",
              "    }\n",
              "  "
            ]
          },
          "metadata": {}
        },
        {
          "output_type": "display_data",
          "data": {
            "text/plain": [
              "<IPython.core.display.Javascript object>"
            ],
            "application/javascript": [
              "download(\"download_f70c0958-af04-4c3f-a849-84e61589affa\", \"fc2_weights.dat\", 3247506)"
            ]
          },
          "metadata": {}
        },
        {
          "output_type": "display_data",
          "data": {
            "text/plain": [
              "<IPython.core.display.Javascript object>"
            ],
            "application/javascript": [
              "\n",
              "    async function download(id, filename, size) {\n",
              "      if (!google.colab.kernel.accessAllowed) {\n",
              "        return;\n",
              "      }\n",
              "      const div = document.createElement('div');\n",
              "      const label = document.createElement('label');\n",
              "      label.textContent = `Downloading \"${filename}\": `;\n",
              "      div.appendChild(label);\n",
              "      const progress = document.createElement('progress');\n",
              "      progress.max = size;\n",
              "      div.appendChild(progress);\n",
              "      document.body.appendChild(div);\n",
              "\n",
              "      const buffers = [];\n",
              "      let downloaded = 0;\n",
              "\n",
              "      const channel = await google.colab.kernel.comms.open(id);\n",
              "      // Send a message to notify the kernel that we're ready.\n",
              "      channel.send({})\n",
              "\n",
              "      for await (const message of channel.messages) {\n",
              "        // Send a message to notify the kernel that we're ready.\n",
              "        channel.send({})\n",
              "        if (message.buffers) {\n",
              "          for (const buffer of message.buffers) {\n",
              "            buffers.push(buffer);\n",
              "            downloaded += buffer.byteLength;\n",
              "            progress.value = downloaded;\n",
              "          }\n",
              "        }\n",
              "      }\n",
              "      const blob = new Blob(buffers, {type: 'application/binary'});\n",
              "      const a = document.createElement('a');\n",
              "      a.href = window.URL.createObjectURL(blob);\n",
              "      a.download = filename;\n",
              "      div.appendChild(a);\n",
              "      a.click();\n",
              "      div.remove();\n",
              "    }\n",
              "  "
            ]
          },
          "metadata": {}
        },
        {
          "output_type": "display_data",
          "data": {
            "text/plain": [
              "<IPython.core.display.Javascript object>"
            ],
            "application/javascript": [
              "download(\"download_abd611ea-4314-4fac-b0b6-6a4e28f8771a\", \"fc2_bias.dat\", 6265)"
            ]
          },
          "metadata": {}
        },
        {
          "output_type": "display_data",
          "data": {
            "text/plain": [
              "<IPython.core.display.Javascript object>"
            ],
            "application/javascript": [
              "\n",
              "    async function download(id, filename, size) {\n",
              "      if (!google.colab.kernel.accessAllowed) {\n",
              "        return;\n",
              "      }\n",
              "      const div = document.createElement('div');\n",
              "      const label = document.createElement('label');\n",
              "      label.textContent = `Downloading \"${filename}\": `;\n",
              "      div.appendChild(label);\n",
              "      const progress = document.createElement('progress');\n",
              "      progress.max = size;\n",
              "      div.appendChild(progress);\n",
              "      document.body.appendChild(div);\n",
              "\n",
              "      const buffers = [];\n",
              "      let downloaded = 0;\n",
              "\n",
              "      const channel = await google.colab.kernel.comms.open(id);\n",
              "      // Send a message to notify the kernel that we're ready.\n",
              "      channel.send({})\n",
              "\n",
              "      for await (const message of channel.messages) {\n",
              "        // Send a message to notify the kernel that we're ready.\n",
              "        channel.send({})\n",
              "        if (message.buffers) {\n",
              "          for (const buffer of message.buffers) {\n",
              "            buffers.push(buffer);\n",
              "            downloaded += buffer.byteLength;\n",
              "            progress.value = downloaded;\n",
              "          }\n",
              "        }\n",
              "      }\n",
              "      const blob = new Blob(buffers, {type: 'application/binary'});\n",
              "      const a = document.createElement('a');\n",
              "      a.href = window.URL.createObjectURL(blob);\n",
              "      a.download = filename;\n",
              "      div.appendChild(a);\n",
              "      a.click();\n",
              "      div.remove();\n",
              "    }\n",
              "  "
            ]
          },
          "metadata": {}
        },
        {
          "output_type": "display_data",
          "data": {
            "text/plain": [
              "<IPython.core.display.Javascript object>"
            ],
            "application/javascript": [
              "download(\"download_bcd1a6b1-1fe1-4b5a-b632-e3b0216ffe37\", \"fc3_weights.dat\", 61138)"
            ]
          },
          "metadata": {}
        },
        {
          "output_type": "display_data",
          "data": {
            "text/plain": [
              "<IPython.core.display.Javascript object>"
            ],
            "application/javascript": [
              "\n",
              "    async function download(id, filename, size) {\n",
              "      if (!google.colab.kernel.accessAllowed) {\n",
              "        return;\n",
              "      }\n",
              "      const div = document.createElement('div');\n",
              "      const label = document.createElement('label');\n",
              "      label.textContent = `Downloading \"${filename}\": `;\n",
              "      div.appendChild(label);\n",
              "      const progress = document.createElement('progress');\n",
              "      progress.max = size;\n",
              "      div.appendChild(progress);\n",
              "      document.body.appendChild(div);\n",
              "\n",
              "      const buffers = [];\n",
              "      let downloaded = 0;\n",
              "\n",
              "      const channel = await google.colab.kernel.comms.open(id);\n",
              "      // Send a message to notify the kernel that we're ready.\n",
              "      channel.send({})\n",
              "\n",
              "      for await (const message of channel.messages) {\n",
              "        // Send a message to notify the kernel that we're ready.\n",
              "        channel.send({})\n",
              "        if (message.buffers) {\n",
              "          for (const buffer of message.buffers) {\n",
              "            buffers.push(buffer);\n",
              "            downloaded += buffer.byteLength;\n",
              "            progress.value = downloaded;\n",
              "          }\n",
              "        }\n",
              "      }\n",
              "      const blob = new Blob(buffers, {type: 'application/binary'});\n",
              "      const a = document.createElement('a');\n",
              "      a.href = window.URL.createObjectURL(blob);\n",
              "      a.download = filename;\n",
              "      div.appendChild(a);\n",
              "      a.click();\n",
              "      div.remove();\n",
              "    }\n",
              "  "
            ]
          },
          "metadata": {}
        },
        {
          "output_type": "display_data",
          "data": {
            "text/plain": [
              "<IPython.core.display.Javascript object>"
            ],
            "application/javascript": [
              "download(\"download_a3f32830-e638-4263-b36f-f0c6e6d70a26\", \"fc3_bias.dat\", 120)"
            ]
          },
          "metadata": {}
        }
      ]
    },
    {
      "cell_type": "code",
      "source": [
        ""
      ],
      "metadata": {
        "id": "l53982nRoY8o"
      },
      "execution_count": null,
      "outputs": []
    }
  ]
}